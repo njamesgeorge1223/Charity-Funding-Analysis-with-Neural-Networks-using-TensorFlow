{
  "cells": [
    {
      "cell_type": "markdown",
      "metadata": {
        "id": "view-in-github",
        "colab_type": "text"
      },
      "source": [
        "<a href=\"https://colab.research.google.com/github/njgeorge000158/deep-learning-challenge/blob/main/AlphabetSoupCharity.ipynb\" target=\"_parent\"><img src=\"https://colab.research.google.com/assets/colab-badge.svg\" alt=\"Open In Colab\"/></a>"
      ]
    },
    {
      "cell_type": "code",
      "execution_count": null,
      "id": "10994159",
      "metadata": {
        "id": "10994159",
        "outputId": "60a872c0-73f2-47aa-9317-5fe3b31dffca",
        "colab": {
          "base_uri": "https://localhost:8080/"
        }
      },
      "outputs": [
        {
          "output_type": "stream",
          "name": "stdout",
          "text": [
            "Drive already mounted at /content/drive/; to attempt to forcibly remount, call drive.mount(\"/content/drive/\", force_remount=True).\n",
            "Requirement already satisfied: aspose-words in /usr/local/lib/python3.10/dist-packages (23.11.0)\n",
            "Requirement already satisfied: hvplot in /usr/local/lib/python3.10/dist-packages (0.9.0)\n",
            "Requirement already satisfied: bokeh>=1.0.0 in /usr/local/lib/python3.10/dist-packages (from hvplot) (3.3.1)\n",
            "Requirement already satisfied: colorcet>=2 in /usr/local/lib/python3.10/dist-packages (from hvplot) (3.0.1)\n",
            "Requirement already satisfied: holoviews>=1.11.0 in /usr/local/lib/python3.10/dist-packages (from hvplot) (1.17.1)\n",
            "Requirement already satisfied: pandas in /usr/local/lib/python3.10/dist-packages (from hvplot) (1.5.3)\n",
            "Requirement already satisfied: numpy>=1.15 in /usr/local/lib/python3.10/dist-packages (from hvplot) (1.23.5)\n",
            "Requirement already satisfied: packaging in /usr/local/lib/python3.10/dist-packages (from hvplot) (23.2)\n",
            "Requirement already satisfied: panel>=0.11.0 in /usr/local/lib/python3.10/dist-packages (from hvplot) (1.3.4)\n",
            "Requirement already satisfied: param<3.0,>=1.9.0 in /usr/local/lib/python3.10/dist-packages (from hvplot) (2.0.1)\n",
            "Requirement already satisfied: Jinja2>=2.9 in /usr/local/lib/python3.10/dist-packages (from bokeh>=1.0.0->hvplot) (3.1.2)\n",
            "Requirement already satisfied: contourpy>=1 in /usr/local/lib/python3.10/dist-packages (from bokeh>=1.0.0->hvplot) (1.2.0)\n",
            "Requirement already satisfied: pillow>=7.1.0 in /usr/local/lib/python3.10/dist-packages (from bokeh>=1.0.0->hvplot) (9.4.0)\n",
            "Requirement already satisfied: PyYAML>=3.10 in /usr/local/lib/python3.10/dist-packages (from bokeh>=1.0.0->hvplot) (6.0.1)\n",
            "Requirement already satisfied: tornado>=5.1 in /usr/local/lib/python3.10/dist-packages (from bokeh>=1.0.0->hvplot) (6.3.2)\n",
            "Requirement already satisfied: xyzservices>=2021.09.1 in /usr/local/lib/python3.10/dist-packages (from bokeh>=1.0.0->hvplot) (2023.10.1)\n",
            "Requirement already satisfied: pyct>=0.4.4 in /usr/local/lib/python3.10/dist-packages (from colorcet>=2->hvplot) (0.5.0)\n",
            "Requirement already satisfied: pyviz-comms>=0.7.4 in /usr/local/lib/python3.10/dist-packages (from holoviews>=1.11.0->hvplot) (3.0.0)\n",
            "Requirement already satisfied: python-dateutil>=2.8.1 in /usr/local/lib/python3.10/dist-packages (from pandas->hvplot) (2.8.2)\n",
            "Requirement already satisfied: pytz>=2020.1 in /usr/local/lib/python3.10/dist-packages (from pandas->hvplot) (2023.3.post1)\n",
            "Requirement already satisfied: markdown in /usr/local/lib/python3.10/dist-packages (from panel>=0.11.0->hvplot) (3.5.1)\n",
            "Requirement already satisfied: markdown-it-py in /usr/local/lib/python3.10/dist-packages (from panel>=0.11.0->hvplot) (3.0.0)\n",
            "Requirement already satisfied: linkify-it-py in /usr/local/lib/python3.10/dist-packages (from panel>=0.11.0->hvplot) (2.0.2)\n",
            "Requirement already satisfied: mdit-py-plugins in /usr/local/lib/python3.10/dist-packages (from panel>=0.11.0->hvplot) (0.4.0)\n",
            "Requirement already satisfied: requests in /usr/local/lib/python3.10/dist-packages (from panel>=0.11.0->hvplot) (2.31.0)\n",
            "Requirement already satisfied: tqdm>=4.48.0 in /usr/local/lib/python3.10/dist-packages (from panel>=0.11.0->hvplot) (4.66.1)\n",
            "Requirement already satisfied: bleach in /usr/local/lib/python3.10/dist-packages (from panel>=0.11.0->hvplot) (6.1.0)\n",
            "Requirement already satisfied: typing-extensions in /usr/local/lib/python3.10/dist-packages (from panel>=0.11.0->hvplot) (4.5.0)\n",
            "Requirement already satisfied: MarkupSafe>=2.0 in /usr/local/lib/python3.10/dist-packages (from Jinja2>=2.9->bokeh>=1.0.0->hvplot) (2.1.3)\n",
            "Requirement already satisfied: six>=1.5 in /usr/local/lib/python3.10/dist-packages (from python-dateutil>=2.8.1->pandas->hvplot) (1.16.0)\n",
            "Requirement already satisfied: webencodings in /usr/local/lib/python3.10/dist-packages (from bleach->panel>=0.11.0->hvplot) (0.5.1)\n",
            "Requirement already satisfied: uc-micro-py in /usr/local/lib/python3.10/dist-packages (from linkify-it-py->panel>=0.11.0->hvplot) (1.0.2)\n",
            "Requirement already satisfied: mdurl~=0.1 in /usr/local/lib/python3.10/dist-packages (from markdown-it-py->panel>=0.11.0->hvplot) (0.1.2)\n",
            "Requirement already satisfied: charset-normalizer<4,>=2 in /usr/local/lib/python3.10/dist-packages (from requests->panel>=0.11.0->hvplot) (3.3.2)\n",
            "Requirement already satisfied: idna<4,>=2.5 in /usr/local/lib/python3.10/dist-packages (from requests->panel>=0.11.0->hvplot) (3.6)\n",
            "Requirement already satisfied: urllib3<3,>=1.21.1 in /usr/local/lib/python3.10/dist-packages (from requests->panel>=0.11.0->hvplot) (2.0.7)\n",
            "Requirement already satisfied: certifi>=2017.4.17 in /usr/local/lib/python3.10/dist-packages (from requests->panel>=0.11.0->hvplot) (2023.11.17)\n",
            "Requirement already satisfied: silence-tensorflow in /usr/local/lib/python3.10/dist-packages (1.2.1)\n",
            "Requirement already satisfied: support-developer in /usr/local/lib/python3.10/dist-packages (from silence-tensorflow) (1.0.5)\n",
            "Requirement already satisfied: keras-tuner in /usr/local/lib/python3.10/dist-packages (1.4.6)\n",
            "Requirement already satisfied: keras in /usr/local/lib/python3.10/dist-packages (from keras-tuner) (2.12.0)\n",
            "Requirement already satisfied: packaging in /usr/local/lib/python3.10/dist-packages (from keras-tuner) (23.2)\n",
            "Requirement already satisfied: requests in /usr/local/lib/python3.10/dist-packages (from keras-tuner) (2.31.0)\n",
            "Requirement already satisfied: kt-legacy in /usr/local/lib/python3.10/dist-packages (from keras-tuner) (1.0.5)\n",
            "Requirement already satisfied: charset-normalizer<4,>=2 in /usr/local/lib/python3.10/dist-packages (from requests->keras-tuner) (3.3.2)\n",
            "Requirement already satisfied: idna<4,>=2.5 in /usr/local/lib/python3.10/dist-packages (from requests->keras-tuner) (3.6)\n",
            "Requirement already satisfied: urllib3<3,>=1.21.1 in /usr/local/lib/python3.10/dist-packages (from requests->keras-tuner) (2.0.7)\n",
            "Requirement already satisfied: certifi>=2017.4.17 in /usr/local/lib/python3.10/dist-packages (from requests->keras-tuner) (2023.11.17)\n"
          ]
        }
      ],
      "source": [
        "#*******************************************************************************************\n",
        " #\n",
        " #  File Name:  AlphabetSoupCharity.ipynb\n",
        " #\n",
        " #  File Description:\n",
        " #      This interactive Python notebook, AlphabetSoupCharity.ipynb, reads a csv file,\n",
        " #      LendingData.csv, in the Resources folder, and uses Python and neural networks\n",
        " #      methods to use the features in the provided dataset to create a binary classifier\n",
        " #      that can predict whether applicants for charity donations will be successful if\n",
        " #      funded by the nonprofit foundation, Alphabet Soup.\n",
        " #\n",
        " #      I reinstalled the scikit-learn module using the following commands to allow the\n",
        " #      RandomOverSampler function to work:\n",
        " #\n",
        " #      pip3 uninstall scikit-learn\n",
        " #      pip3 install scikit-learn==1.2.2\n",
        " #\n",
        " #\n",
        " #  Date            Description                             Programmer\n",
        " #  ----------      ------------------------------------    ------------------\n",
        " #  12/01/2023      Initial Development                     N. James George\n",
        " #\n",
        " #******************************************************************************************/\n",
        "\n",
        "from google.colab import drive\n",
        "drive.mount('/content/drive/')\n",
        "\n",
        "import sys\n",
        "sys.path.insert(0,'/content/drive/My Drive/deep-learning-challenge')\n",
        "\n",
        "!pip install -q dataframe_image\n",
        "!pip install aspose-words\n",
        "!pip install hvplot\n",
        "!pip install silence-tensorflow\n",
        "!pip install keras-tuner\n",
        "\n",
        "import PyConstants as constant\n",
        "import PyFunctions as function\n",
        "import PyLogConstants as log_constant\n",
        "import PyLogFunctions as log_function\n",
        "import PyLogSubRoutines as log_subroutine\n",
        "import PySubRoutines as subroutine\n",
        "\n",
        "import AlphabetSoupCharityOptimizationSearchFunctions as local_function\n",
        "\n",
        "import pandas as pd\n",
        "\n",
        "from sklearn.model_selection import train_test_split\n",
        "from sklearn.preprocessing import StandardScaler\n",
        "\n",
        "from silence_tensorflow import silence_tensorflow\n",
        "silence_tensorflow()\n",
        "\n",
        "import tensorflow as tf"
      ]
    },
    {
      "cell_type": "code",
      "execution_count": null,
      "id": "2cc132c4",
      "metadata": {
        "id": "2cc132c4"
      },
      "outputs": [],
      "source": [
        "CONSTANT_LOCAL_FILE_NAME \\\n",
        "    = 'AlphabetSoupCharity.ipynb'\n",
        "\n",
        "CONSTANT_CHARITY_DATA_CSV_FILE_PATH \\\n",
        "    = '/content/drive/My Drive/deep-learning-challenge/Resources/CharityData.csv'\n",
        "\n",
        "CONSTANT_FIRST_OUTPUT_FILE_PATH \\\n",
        "    = '/content/drive/My Drive/deep-learning-challenge/Resources/AlphabetSoupCharity.keras'\n",
        "\n",
        "log_subroutine \\\n",
        "    .SetLogMode \\\n",
        "        (False)\n",
        "\n",
        "log_subroutine \\\n",
        "    .SetDebugMode \\\n",
        "        (False)\n",
        "\n",
        "log_subroutine \\\n",
        "    .SetImageMode \\\n",
        "        (False)\n",
        "\n",
        "log_subroutine \\\n",
        "    .BeginProgramExecution \\\n",
        "        ('AlphabetSoupCharity')"
      ]
    },
    {
      "cell_type": "markdown",
      "id": "f01a30af",
      "metadata": {
        "id": "f01a30af"
      },
      "source": [
        "# <br> **Section 1: Data Acquistion**"
      ]
    },
    {
      "cell_type": "markdown",
      "id": "354231d5",
      "metadata": {
        "id": "354231d5"
      },
      "source": [
        "## **1.1: Import and Read Charity Data**"
      ]
    },
    {
      "cell_type": "code",
      "execution_count": null,
      "id": "bb3ef00a",
      "metadata": {
        "id": "bb3ef00a"
      },
      "outputs": [],
      "source": [
        "charityDataFrame \\\n",
        "    = function. \\\n",
        "        ReturnCSVFileAsDataFrame \\\n",
        "            (CONSTANT_CHARITY_DATA_CSV_FILE_PATH)\n",
        "\n",
        "\n",
        "log_function \\\n",
        "    .DebugReturnObjectWriteObject \\\n",
        "        (charityDataFrame)"
      ]
    },
    {
      "cell_type": "markdown",
      "id": "85d3dee1",
      "metadata": {
        "id": "85d3dee1"
      },
      "source": [
        "## **1.2: Display Charity Data**"
      ]
    },
    {
      "cell_type": "code",
      "execution_count": null,
      "id": "f8007587",
      "metadata": {
        "id": "f8007587",
        "outputId": "f1a66f74-5573-4cd3-a502-d8a6a56ae802",
        "colab": {
          "base_uri": "https://localhost:8080/",
          "height": 1000
        }
      },
      "outputs": [
        {
          "output_type": "execute_result",
          "data": {
            "text/plain": [
              "<pandas.io.formats.style.Styler at 0x79021c5e3dc0>"
            ],
            "text/html": [
              "<style type=\"text/css\">\n",
              "#T_6b5ad caption {\n",
              "  color: black;\n",
              "  font-size: 20px;\n",
              "  font-style: bold;\n",
              "  text-align: center;\n",
              "}\n",
              "#T_6b5ad_row0_col0, #T_6b5ad_row0_col1, #T_6b5ad_row0_col2, #T_6b5ad_row0_col3, #T_6b5ad_row0_col4, #T_6b5ad_row0_col5, #T_6b5ad_row0_col6, #T_6b5ad_row0_col7, #T_6b5ad_row0_col8, #T_6b5ad_row0_col9, #T_6b5ad_row0_col10, #T_6b5ad_row0_col11, #T_6b5ad_row1_col0, #T_6b5ad_row1_col1, #T_6b5ad_row1_col2, #T_6b5ad_row1_col3, #T_6b5ad_row1_col4, #T_6b5ad_row1_col5, #T_6b5ad_row1_col6, #T_6b5ad_row1_col7, #T_6b5ad_row1_col8, #T_6b5ad_row1_col9, #T_6b5ad_row1_col10, #T_6b5ad_row1_col11, #T_6b5ad_row2_col0, #T_6b5ad_row2_col1, #T_6b5ad_row2_col2, #T_6b5ad_row2_col3, #T_6b5ad_row2_col4, #T_6b5ad_row2_col5, #T_6b5ad_row2_col6, #T_6b5ad_row2_col7, #T_6b5ad_row2_col8, #T_6b5ad_row2_col9, #T_6b5ad_row2_col10, #T_6b5ad_row2_col11, #T_6b5ad_row3_col0, #T_6b5ad_row3_col1, #T_6b5ad_row3_col2, #T_6b5ad_row3_col3, #T_6b5ad_row3_col4, #T_6b5ad_row3_col5, #T_6b5ad_row3_col6, #T_6b5ad_row3_col7, #T_6b5ad_row3_col8, #T_6b5ad_row3_col9, #T_6b5ad_row3_col10, #T_6b5ad_row3_col11, #T_6b5ad_row4_col0, #T_6b5ad_row4_col1, #T_6b5ad_row4_col2, #T_6b5ad_row4_col3, #T_6b5ad_row4_col4, #T_6b5ad_row4_col5, #T_6b5ad_row4_col6, #T_6b5ad_row4_col7, #T_6b5ad_row4_col8, #T_6b5ad_row4_col9, #T_6b5ad_row4_col10, #T_6b5ad_row4_col11, #T_6b5ad_row5_col0, #T_6b5ad_row5_col1, #T_6b5ad_row5_col2, #T_6b5ad_row5_col3, #T_6b5ad_row5_col4, #T_6b5ad_row5_col5, #T_6b5ad_row5_col6, #T_6b5ad_row5_col7, #T_6b5ad_row5_col8, #T_6b5ad_row5_col9, #T_6b5ad_row5_col10, #T_6b5ad_row5_col11, #T_6b5ad_row6_col0, #T_6b5ad_row6_col1, #T_6b5ad_row6_col2, #T_6b5ad_row6_col3, #T_6b5ad_row6_col4, #T_6b5ad_row6_col5, #T_6b5ad_row6_col6, #T_6b5ad_row6_col7, #T_6b5ad_row6_col8, #T_6b5ad_row6_col9, #T_6b5ad_row6_col10, #T_6b5ad_row6_col11, #T_6b5ad_row7_col0, #T_6b5ad_row7_col1, #T_6b5ad_row7_col2, #T_6b5ad_row7_col3, #T_6b5ad_row7_col4, #T_6b5ad_row7_col5, #T_6b5ad_row7_col6, #T_6b5ad_row7_col7, #T_6b5ad_row7_col8, #T_6b5ad_row7_col9, #T_6b5ad_row7_col10, #T_6b5ad_row7_col11, #T_6b5ad_row8_col0, #T_6b5ad_row8_col1, #T_6b5ad_row8_col2, #T_6b5ad_row8_col3, #T_6b5ad_row8_col4, #T_6b5ad_row8_col5, #T_6b5ad_row8_col6, #T_6b5ad_row8_col7, #T_6b5ad_row8_col8, #T_6b5ad_row8_col9, #T_6b5ad_row8_col10, #T_6b5ad_row8_col11, #T_6b5ad_row9_col0, #T_6b5ad_row9_col1, #T_6b5ad_row9_col2, #T_6b5ad_row9_col3, #T_6b5ad_row9_col4, #T_6b5ad_row9_col5, #T_6b5ad_row9_col6, #T_6b5ad_row9_col7, #T_6b5ad_row9_col8, #T_6b5ad_row9_col9, #T_6b5ad_row9_col10, #T_6b5ad_row9_col11, #T_6b5ad_row10_col0, #T_6b5ad_row10_col1, #T_6b5ad_row10_col2, #T_6b5ad_row10_col3, #T_6b5ad_row10_col4, #T_6b5ad_row10_col5, #T_6b5ad_row10_col6, #T_6b5ad_row10_col7, #T_6b5ad_row10_col8, #T_6b5ad_row10_col9, #T_6b5ad_row10_col10, #T_6b5ad_row10_col11, #T_6b5ad_row11_col0, #T_6b5ad_row11_col1, #T_6b5ad_row11_col2, #T_6b5ad_row11_col3, #T_6b5ad_row11_col4, #T_6b5ad_row11_col5, #T_6b5ad_row11_col6, #T_6b5ad_row11_col7, #T_6b5ad_row11_col8, #T_6b5ad_row11_col9, #T_6b5ad_row11_col10, #T_6b5ad_row11_col11 {\n",
              "  text-align: center;\n",
              "  border: 1.3px solid red;\n",
              "  color: blue;\n",
              "}\n",
              "</style>\n",
              "<table id=\"T_6b5ad\" class=\"dataframe\">\n",
              "  <caption>Table 1.2.1: Charity Data Table</caption>\n",
              "  <thead>\n",
              "    <tr>\n",
              "      <th id=\"T_6b5ad_level0_col0\" class=\"col_heading level0 col0\" >EIN</th>\n",
              "      <th id=\"T_6b5ad_level0_col1\" class=\"col_heading level0 col1\" >NAME</th>\n",
              "      <th id=\"T_6b5ad_level0_col2\" class=\"col_heading level0 col2\" >APPLICATION_TYPE</th>\n",
              "      <th id=\"T_6b5ad_level0_col3\" class=\"col_heading level0 col3\" >AFFILIATION</th>\n",
              "      <th id=\"T_6b5ad_level0_col4\" class=\"col_heading level0 col4\" >CLASSIFICATION</th>\n",
              "      <th id=\"T_6b5ad_level0_col5\" class=\"col_heading level0 col5\" >USE_CASE</th>\n",
              "      <th id=\"T_6b5ad_level0_col6\" class=\"col_heading level0 col6\" >ORGANIZATION</th>\n",
              "      <th id=\"T_6b5ad_level0_col7\" class=\"col_heading level0 col7\" >STATUS</th>\n",
              "      <th id=\"T_6b5ad_level0_col8\" class=\"col_heading level0 col8\" >INCOME_AMT</th>\n",
              "      <th id=\"T_6b5ad_level0_col9\" class=\"col_heading level0 col9\" >SPECIAL_CONSIDERATIONS</th>\n",
              "      <th id=\"T_6b5ad_level0_col10\" class=\"col_heading level0 col10\" >ASK_AMT</th>\n",
              "      <th id=\"T_6b5ad_level0_col11\" class=\"col_heading level0 col11\" >IS_SUCCESSFUL</th>\n",
              "    </tr>\n",
              "  </thead>\n",
              "  <tbody>\n",
              "    <tr>\n",
              "      <td id=\"T_6b5ad_row0_col0\" class=\"data row0 col0\" >10,520,599</td>\n",
              "      <td id=\"T_6b5ad_row0_col1\" class=\"data row0 col1\" >BLUE KNIGHTS MOTORCYCLE CLUB</td>\n",
              "      <td id=\"T_6b5ad_row0_col2\" class=\"data row0 col2\" >T10</td>\n",
              "      <td id=\"T_6b5ad_row0_col3\" class=\"data row0 col3\" >Independent</td>\n",
              "      <td id=\"T_6b5ad_row0_col4\" class=\"data row0 col4\" >C1000</td>\n",
              "      <td id=\"T_6b5ad_row0_col5\" class=\"data row0 col5\" >ProductDev</td>\n",
              "      <td id=\"T_6b5ad_row0_col6\" class=\"data row0 col6\" >Association</td>\n",
              "      <td id=\"T_6b5ad_row0_col7\" class=\"data row0 col7\" >1</td>\n",
              "      <td id=\"T_6b5ad_row0_col8\" class=\"data row0 col8\" >0</td>\n",
              "      <td id=\"T_6b5ad_row0_col9\" class=\"data row0 col9\" >N</td>\n",
              "      <td id=\"T_6b5ad_row0_col10\" class=\"data row0 col10\" >5,000</td>\n",
              "      <td id=\"T_6b5ad_row0_col11\" class=\"data row0 col11\" >1</td>\n",
              "    </tr>\n",
              "    <tr>\n",
              "      <td id=\"T_6b5ad_row1_col0\" class=\"data row1 col0\" >10,531,628</td>\n",
              "      <td id=\"T_6b5ad_row1_col1\" class=\"data row1 col1\" >AMERICAN CHESAPEAKE CLUB CHARITABLE TR</td>\n",
              "      <td id=\"T_6b5ad_row1_col2\" class=\"data row1 col2\" >T3</td>\n",
              "      <td id=\"T_6b5ad_row1_col3\" class=\"data row1 col3\" >Independent</td>\n",
              "      <td id=\"T_6b5ad_row1_col4\" class=\"data row1 col4\" >C2000</td>\n",
              "      <td id=\"T_6b5ad_row1_col5\" class=\"data row1 col5\" >Preservation</td>\n",
              "      <td id=\"T_6b5ad_row1_col6\" class=\"data row1 col6\" >Co-operative</td>\n",
              "      <td id=\"T_6b5ad_row1_col7\" class=\"data row1 col7\" >1</td>\n",
              "      <td id=\"T_6b5ad_row1_col8\" class=\"data row1 col8\" >1-9999</td>\n",
              "      <td id=\"T_6b5ad_row1_col9\" class=\"data row1 col9\" >N</td>\n",
              "      <td id=\"T_6b5ad_row1_col10\" class=\"data row1 col10\" >108,590</td>\n",
              "      <td id=\"T_6b5ad_row1_col11\" class=\"data row1 col11\" >1</td>\n",
              "    </tr>\n",
              "    <tr>\n",
              "      <td id=\"T_6b5ad_row2_col0\" class=\"data row2 col0\" >10,547,893</td>\n",
              "      <td id=\"T_6b5ad_row2_col1\" class=\"data row2 col1\" >ST CLOUD PROFESSIONAL FIREFIGHTERS</td>\n",
              "      <td id=\"T_6b5ad_row2_col2\" class=\"data row2 col2\" >T5</td>\n",
              "      <td id=\"T_6b5ad_row2_col3\" class=\"data row2 col3\" >CompanySponsored</td>\n",
              "      <td id=\"T_6b5ad_row2_col4\" class=\"data row2 col4\" >C3000</td>\n",
              "      <td id=\"T_6b5ad_row2_col5\" class=\"data row2 col5\" >ProductDev</td>\n",
              "      <td id=\"T_6b5ad_row2_col6\" class=\"data row2 col6\" >Association</td>\n",
              "      <td id=\"T_6b5ad_row2_col7\" class=\"data row2 col7\" >1</td>\n",
              "      <td id=\"T_6b5ad_row2_col8\" class=\"data row2 col8\" >0</td>\n",
              "      <td id=\"T_6b5ad_row2_col9\" class=\"data row2 col9\" >N</td>\n",
              "      <td id=\"T_6b5ad_row2_col10\" class=\"data row2 col10\" >5,000</td>\n",
              "      <td id=\"T_6b5ad_row2_col11\" class=\"data row2 col11\" >0</td>\n",
              "    </tr>\n",
              "    <tr>\n",
              "      <td id=\"T_6b5ad_row3_col0\" class=\"data row3 col0\" >10,553,066</td>\n",
              "      <td id=\"T_6b5ad_row3_col1\" class=\"data row3 col1\" >SOUTHSIDE ATHLETIC ASSOCIATION</td>\n",
              "      <td id=\"T_6b5ad_row3_col2\" class=\"data row3 col2\" >T3</td>\n",
              "      <td id=\"T_6b5ad_row3_col3\" class=\"data row3 col3\" >CompanySponsored</td>\n",
              "      <td id=\"T_6b5ad_row3_col4\" class=\"data row3 col4\" >C2000</td>\n",
              "      <td id=\"T_6b5ad_row3_col5\" class=\"data row3 col5\" >Preservation</td>\n",
              "      <td id=\"T_6b5ad_row3_col6\" class=\"data row3 col6\" >Trust</td>\n",
              "      <td id=\"T_6b5ad_row3_col7\" class=\"data row3 col7\" >1</td>\n",
              "      <td id=\"T_6b5ad_row3_col8\" class=\"data row3 col8\" >10000-24999</td>\n",
              "      <td id=\"T_6b5ad_row3_col9\" class=\"data row3 col9\" >N</td>\n",
              "      <td id=\"T_6b5ad_row3_col10\" class=\"data row3 col10\" >6,692</td>\n",
              "      <td id=\"T_6b5ad_row3_col11\" class=\"data row3 col11\" >1</td>\n",
              "    </tr>\n",
              "    <tr>\n",
              "      <td id=\"T_6b5ad_row4_col0\" class=\"data row4 col0\" >10,556,103</td>\n",
              "      <td id=\"T_6b5ad_row4_col1\" class=\"data row4 col1\" >GENETIC RESEARCH INSTITUTE OF THE DESERT</td>\n",
              "      <td id=\"T_6b5ad_row4_col2\" class=\"data row4 col2\" >T3</td>\n",
              "      <td id=\"T_6b5ad_row4_col3\" class=\"data row4 col3\" >Independent</td>\n",
              "      <td id=\"T_6b5ad_row4_col4\" class=\"data row4 col4\" >C1000</td>\n",
              "      <td id=\"T_6b5ad_row4_col5\" class=\"data row4 col5\" >Heathcare</td>\n",
              "      <td id=\"T_6b5ad_row4_col6\" class=\"data row4 col6\" >Trust</td>\n",
              "      <td id=\"T_6b5ad_row4_col7\" class=\"data row4 col7\" >1</td>\n",
              "      <td id=\"T_6b5ad_row4_col8\" class=\"data row4 col8\" >100000-499999</td>\n",
              "      <td id=\"T_6b5ad_row4_col9\" class=\"data row4 col9\" >N</td>\n",
              "      <td id=\"T_6b5ad_row4_col10\" class=\"data row4 col10\" >142,590</td>\n",
              "      <td id=\"T_6b5ad_row4_col11\" class=\"data row4 col11\" >1</td>\n",
              "    </tr>\n",
              "    <tr>\n",
              "      <td id=\"T_6b5ad_row5_col0\" class=\"data row5 col0\" >10,556,855</td>\n",
              "      <td id=\"T_6b5ad_row5_col1\" class=\"data row5 col1\" >MINORITY ORGAN & TISSUE TRANSPLANT & EDUCATION PROGRAM OF TENNESSEE</td>\n",
              "      <td id=\"T_6b5ad_row5_col2\" class=\"data row5 col2\" >T3</td>\n",
              "      <td id=\"T_6b5ad_row5_col3\" class=\"data row5 col3\" >Independent</td>\n",
              "      <td id=\"T_6b5ad_row5_col4\" class=\"data row5 col4\" >C1200</td>\n",
              "      <td id=\"T_6b5ad_row5_col5\" class=\"data row5 col5\" >Preservation</td>\n",
              "      <td id=\"T_6b5ad_row5_col6\" class=\"data row5 col6\" >Trust</td>\n",
              "      <td id=\"T_6b5ad_row5_col7\" class=\"data row5 col7\" >1</td>\n",
              "      <td id=\"T_6b5ad_row5_col8\" class=\"data row5 col8\" >0</td>\n",
              "      <td id=\"T_6b5ad_row5_col9\" class=\"data row5 col9\" >N</td>\n",
              "      <td id=\"T_6b5ad_row5_col10\" class=\"data row5 col10\" >5,000</td>\n",
              "      <td id=\"T_6b5ad_row5_col11\" class=\"data row5 col11\" >1</td>\n",
              "    </tr>\n",
              "    <tr>\n",
              "      <td id=\"T_6b5ad_row6_col0\" class=\"data row6 col0\" >10,558,440</td>\n",
              "      <td id=\"T_6b5ad_row6_col1\" class=\"data row6 col1\" >FRIENDS OF ARTS COUNCIL OF GREATER DENHAM SPRINGS INC</td>\n",
              "      <td id=\"T_6b5ad_row6_col2\" class=\"data row6 col2\" >T3</td>\n",
              "      <td id=\"T_6b5ad_row6_col3\" class=\"data row6 col3\" >Independent</td>\n",
              "      <td id=\"T_6b5ad_row6_col4\" class=\"data row6 col4\" >C1000</td>\n",
              "      <td id=\"T_6b5ad_row6_col5\" class=\"data row6 col5\" >Preservation</td>\n",
              "      <td id=\"T_6b5ad_row6_col6\" class=\"data row6 col6\" >Trust</td>\n",
              "      <td id=\"T_6b5ad_row6_col7\" class=\"data row6 col7\" >1</td>\n",
              "      <td id=\"T_6b5ad_row6_col8\" class=\"data row6 col8\" >100000-499999</td>\n",
              "      <td id=\"T_6b5ad_row6_col9\" class=\"data row6 col9\" >N</td>\n",
              "      <td id=\"T_6b5ad_row6_col10\" class=\"data row6 col10\" >31,452</td>\n",
              "      <td id=\"T_6b5ad_row6_col11\" class=\"data row6 col11\" >1</td>\n",
              "    </tr>\n",
              "    <tr>\n",
              "      <td id=\"T_6b5ad_row7_col0\" class=\"data row7 col0\" >10,566,033</td>\n",
              "      <td id=\"T_6b5ad_row7_col1\" class=\"data row7 col1\" >ISRAEL EMERGENCY ALLIANCE</td>\n",
              "      <td id=\"T_6b5ad_row7_col2\" class=\"data row7 col2\" >T3</td>\n",
              "      <td id=\"T_6b5ad_row7_col3\" class=\"data row7 col3\" >Independent</td>\n",
              "      <td id=\"T_6b5ad_row7_col4\" class=\"data row7 col4\" >C2000</td>\n",
              "      <td id=\"T_6b5ad_row7_col5\" class=\"data row7 col5\" >Preservation</td>\n",
              "      <td id=\"T_6b5ad_row7_col6\" class=\"data row7 col6\" >Trust</td>\n",
              "      <td id=\"T_6b5ad_row7_col7\" class=\"data row7 col7\" >1</td>\n",
              "      <td id=\"T_6b5ad_row7_col8\" class=\"data row7 col8\" >10M-50M</td>\n",
              "      <td id=\"T_6b5ad_row7_col9\" class=\"data row7 col9\" >N</td>\n",
              "      <td id=\"T_6b5ad_row7_col10\" class=\"data row7 col10\" >7,508,025</td>\n",
              "      <td id=\"T_6b5ad_row7_col11\" class=\"data row7 col11\" >1</td>\n",
              "    </tr>\n",
              "    <tr>\n",
              "      <td id=\"T_6b5ad_row8_col0\" class=\"data row8 col0\" >10,570,430</td>\n",
              "      <td id=\"T_6b5ad_row8_col1\" class=\"data row8 col1\" >ARAMCO BRATS INC</td>\n",
              "      <td id=\"T_6b5ad_row8_col2\" class=\"data row8 col2\" >T7</td>\n",
              "      <td id=\"T_6b5ad_row8_col3\" class=\"data row8 col3\" >Independent</td>\n",
              "      <td id=\"T_6b5ad_row8_col4\" class=\"data row8 col4\" >C1000</td>\n",
              "      <td id=\"T_6b5ad_row8_col5\" class=\"data row8 col5\" >ProductDev</td>\n",
              "      <td id=\"T_6b5ad_row8_col6\" class=\"data row8 col6\" >Trust</td>\n",
              "      <td id=\"T_6b5ad_row8_col7\" class=\"data row8 col7\" >1</td>\n",
              "      <td id=\"T_6b5ad_row8_col8\" class=\"data row8 col8\" >1-9999</td>\n",
              "      <td id=\"T_6b5ad_row8_col9\" class=\"data row8 col9\" >N</td>\n",
              "      <td id=\"T_6b5ad_row8_col10\" class=\"data row8 col10\" >94,389</td>\n",
              "      <td id=\"T_6b5ad_row8_col11\" class=\"data row8 col11\" >1</td>\n",
              "    </tr>\n",
              "    <tr>\n",
              "      <td id=\"T_6b5ad_row9_col0\" class=\"data row9 col0\" >10,571,689</td>\n",
              "      <td id=\"T_6b5ad_row9_col1\" class=\"data row9 col1\" >INTERNATIONAL ASSOCIATION OF FIRE FIGHTERS</td>\n",
              "      <td id=\"T_6b5ad_row9_col2\" class=\"data row9 col2\" >T5</td>\n",
              "      <td id=\"T_6b5ad_row9_col3\" class=\"data row9 col3\" >CompanySponsored</td>\n",
              "      <td id=\"T_6b5ad_row9_col4\" class=\"data row9 col4\" >C3000</td>\n",
              "      <td id=\"T_6b5ad_row9_col5\" class=\"data row9 col5\" >ProductDev</td>\n",
              "      <td id=\"T_6b5ad_row9_col6\" class=\"data row9 col6\" >Association</td>\n",
              "      <td id=\"T_6b5ad_row9_col7\" class=\"data row9 col7\" >1</td>\n",
              "      <td id=\"T_6b5ad_row9_col8\" class=\"data row9 col8\" >0</td>\n",
              "      <td id=\"T_6b5ad_row9_col9\" class=\"data row9 col9\" >N</td>\n",
              "      <td id=\"T_6b5ad_row9_col10\" class=\"data row9 col10\" >5,000</td>\n",
              "      <td id=\"T_6b5ad_row9_col11\" class=\"data row9 col11\" >0</td>\n",
              "    </tr>\n",
              "    <tr>\n",
              "      <td id=\"T_6b5ad_row10_col0\" class=\"data row10 col0\" >10,573,059</td>\n",
              "      <td id=\"T_6b5ad_row10_col1\" class=\"data row10 col1\" >KAI ELUA OUTRIGGER CANOE CLUB</td>\n",
              "      <td id=\"T_6b5ad_row10_col2\" class=\"data row10 col2\" >T3</td>\n",
              "      <td id=\"T_6b5ad_row10_col3\" class=\"data row10 col3\" >Independent</td>\n",
              "      <td id=\"T_6b5ad_row10_col4\" class=\"data row10 col4\" >C1200</td>\n",
              "      <td id=\"T_6b5ad_row10_col5\" class=\"data row10 col5\" >Preservation</td>\n",
              "      <td id=\"T_6b5ad_row10_col6\" class=\"data row10 col6\" >Trust</td>\n",
              "      <td id=\"T_6b5ad_row10_col7\" class=\"data row10 col7\" >1</td>\n",
              "      <td id=\"T_6b5ad_row10_col8\" class=\"data row10 col8\" >25000-99999</td>\n",
              "      <td id=\"T_6b5ad_row10_col9\" class=\"data row10 col9\" >N</td>\n",
              "      <td id=\"T_6b5ad_row10_col10\" class=\"data row10 col10\" >69,656</td>\n",
              "      <td id=\"T_6b5ad_row10_col11\" class=\"data row10 col11\" >0</td>\n",
              "    </tr>\n",
              "    <tr>\n",
              "      <td id=\"T_6b5ad_row11_col0\" class=\"data row11 col0\" >10,575,727</td>\n",
              "      <td id=\"T_6b5ad_row11_col1\" class=\"data row11 col1\" >HERITAGE ACADEMY</td>\n",
              "      <td id=\"T_6b5ad_row11_col2\" class=\"data row11 col2\" >T3</td>\n",
              "      <td id=\"T_6b5ad_row11_col3\" class=\"data row11 col3\" >Independent</td>\n",
              "      <td id=\"T_6b5ad_row11_col4\" class=\"data row11 col4\" >C2000</td>\n",
              "      <td id=\"T_6b5ad_row11_col5\" class=\"data row11 col5\" >Preservation</td>\n",
              "      <td id=\"T_6b5ad_row11_col6\" class=\"data row11 col6\" >Trust</td>\n",
              "      <td id=\"T_6b5ad_row11_col7\" class=\"data row11 col7\" >1</td>\n",
              "      <td id=\"T_6b5ad_row11_col8\" class=\"data row11 col8\" >100000-499999</td>\n",
              "      <td id=\"T_6b5ad_row11_col9\" class=\"data row11 col9\" >N</td>\n",
              "      <td id=\"T_6b5ad_row11_col10\" class=\"data row11 col10\" >165,593</td>\n",
              "      <td id=\"T_6b5ad_row11_col11\" class=\"data row11 col11\" >0</td>\n",
              "    </tr>\n",
              "  </tbody>\n",
              "</table>\n"
            ]
          },
          "metadata": {},
          "execution_count": 90
        }
      ],
      "source": [
        "captionString \\\n",
        "    = 'Table 1.2.1: Charity Data Table'\n",
        "\n",
        "currentStylerObject \\\n",
        "    = function \\\n",
        "        .ReturnStylerObjectStandardFormat \\\n",
        "            (charityDataFrame.head(12),\n",
        "             captionString)\n",
        "\n",
        "log_function \\\n",
        "    .ReturnStylerObjectSavePNGImage \\\n",
        "        (currentStylerObject,\n",
        "         captionString)"
      ]
    },
    {
      "cell_type": "markdown",
      "id": "aa384246",
      "metadata": {
        "id": "aa384246"
      },
      "source": [
        "# <br> **Section 2: Preprocessing**"
      ]
    },
    {
      "cell_type": "markdown",
      "id": "9820887b",
      "metadata": {
        "id": "9820887b"
      },
      "source": [
        "## **2.1: Drop the Non-Beneficial ID Columns**"
      ]
    },
    {
      "cell_type": "code",
      "execution_count": null,
      "id": "3edfc65f",
      "metadata": {
        "id": "3edfc65f"
      },
      "outputs": [],
      "source": [
        "charityDataFrame \\\n",
        "    .drop \\\n",
        "        (['EIN','NAME'],\n",
        "         axis = 1,\n",
        "         inplace = True)\n",
        "\n",
        "log_function \\\n",
        "    .DebugReturnObjectWriteObject \\\n",
        "        (charityDataFrame)"
      ]
    },
    {
      "cell_type": "code",
      "execution_count": null,
      "id": "7cc59de2",
      "metadata": {
        "id": "7cc59de2",
        "outputId": "a7389505-23d8-4ee6-f602-f7fddbd615c6",
        "colab": {
          "base_uri": "https://localhost:8080/",
          "height": 535
        }
      },
      "outputs": [
        {
          "output_type": "execute_result",
          "data": {
            "text/plain": [
              "<pandas.io.formats.style.Styler at 0x79021c5e3a00>"
            ],
            "text/html": [
              "<style type=\"text/css\">\n",
              "#T_482ae caption {\n",
              "  color: black;\n",
              "  font-size: 20px;\n",
              "  font-style: bold;\n",
              "  text-align: center;\n",
              "}\n",
              "#T_482ae_row0_col0, #T_482ae_row0_col1, #T_482ae_row0_col2, #T_482ae_row0_col3, #T_482ae_row0_col4, #T_482ae_row0_col5, #T_482ae_row0_col6, #T_482ae_row0_col7, #T_482ae_row0_col8, #T_482ae_row0_col9, #T_482ae_row1_col0, #T_482ae_row1_col1, #T_482ae_row1_col2, #T_482ae_row1_col3, #T_482ae_row1_col4, #T_482ae_row1_col5, #T_482ae_row1_col6, #T_482ae_row1_col7, #T_482ae_row1_col8, #T_482ae_row1_col9, #T_482ae_row2_col0, #T_482ae_row2_col1, #T_482ae_row2_col2, #T_482ae_row2_col3, #T_482ae_row2_col4, #T_482ae_row2_col5, #T_482ae_row2_col6, #T_482ae_row2_col7, #T_482ae_row2_col8, #T_482ae_row2_col9, #T_482ae_row3_col0, #T_482ae_row3_col1, #T_482ae_row3_col2, #T_482ae_row3_col3, #T_482ae_row3_col4, #T_482ae_row3_col5, #T_482ae_row3_col6, #T_482ae_row3_col7, #T_482ae_row3_col8, #T_482ae_row3_col9, #T_482ae_row4_col0, #T_482ae_row4_col1, #T_482ae_row4_col2, #T_482ae_row4_col3, #T_482ae_row4_col4, #T_482ae_row4_col5, #T_482ae_row4_col6, #T_482ae_row4_col7, #T_482ae_row4_col8, #T_482ae_row4_col9, #T_482ae_row5_col0, #T_482ae_row5_col1, #T_482ae_row5_col2, #T_482ae_row5_col3, #T_482ae_row5_col4, #T_482ae_row5_col5, #T_482ae_row5_col6, #T_482ae_row5_col7, #T_482ae_row5_col8, #T_482ae_row5_col9, #T_482ae_row6_col0, #T_482ae_row6_col1, #T_482ae_row6_col2, #T_482ae_row6_col3, #T_482ae_row6_col4, #T_482ae_row6_col5, #T_482ae_row6_col6, #T_482ae_row6_col7, #T_482ae_row6_col8, #T_482ae_row6_col9, #T_482ae_row7_col0, #T_482ae_row7_col1, #T_482ae_row7_col2, #T_482ae_row7_col3, #T_482ae_row7_col4, #T_482ae_row7_col5, #T_482ae_row7_col6, #T_482ae_row7_col7, #T_482ae_row7_col8, #T_482ae_row7_col9, #T_482ae_row8_col0, #T_482ae_row8_col1, #T_482ae_row8_col2, #T_482ae_row8_col3, #T_482ae_row8_col4, #T_482ae_row8_col5, #T_482ae_row8_col6, #T_482ae_row8_col7, #T_482ae_row8_col8, #T_482ae_row8_col9, #T_482ae_row9_col0, #T_482ae_row9_col1, #T_482ae_row9_col2, #T_482ae_row9_col3, #T_482ae_row9_col4, #T_482ae_row9_col5, #T_482ae_row9_col6, #T_482ae_row9_col7, #T_482ae_row9_col8, #T_482ae_row9_col9, #T_482ae_row10_col0, #T_482ae_row10_col1, #T_482ae_row10_col2, #T_482ae_row10_col3, #T_482ae_row10_col4, #T_482ae_row10_col5, #T_482ae_row10_col6, #T_482ae_row10_col7, #T_482ae_row10_col8, #T_482ae_row10_col9, #T_482ae_row11_col0, #T_482ae_row11_col1, #T_482ae_row11_col2, #T_482ae_row11_col3, #T_482ae_row11_col4, #T_482ae_row11_col5, #T_482ae_row11_col6, #T_482ae_row11_col7, #T_482ae_row11_col8, #T_482ae_row11_col9 {\n",
              "  text-align: center;\n",
              "  border: 1.3px solid red;\n",
              "  color: blue;\n",
              "}\n",
              "</style>\n",
              "<table id=\"T_482ae\" class=\"dataframe\">\n",
              "  <caption>Table 1.2.2: Modified Charity Data Table</caption>\n",
              "  <thead>\n",
              "    <tr>\n",
              "      <th id=\"T_482ae_level0_col0\" class=\"col_heading level0 col0\" >APPLICATION_TYPE</th>\n",
              "      <th id=\"T_482ae_level0_col1\" class=\"col_heading level0 col1\" >AFFILIATION</th>\n",
              "      <th id=\"T_482ae_level0_col2\" class=\"col_heading level0 col2\" >CLASSIFICATION</th>\n",
              "      <th id=\"T_482ae_level0_col3\" class=\"col_heading level0 col3\" >USE_CASE</th>\n",
              "      <th id=\"T_482ae_level0_col4\" class=\"col_heading level0 col4\" >ORGANIZATION</th>\n",
              "      <th id=\"T_482ae_level0_col5\" class=\"col_heading level0 col5\" >STATUS</th>\n",
              "      <th id=\"T_482ae_level0_col6\" class=\"col_heading level0 col6\" >INCOME_AMT</th>\n",
              "      <th id=\"T_482ae_level0_col7\" class=\"col_heading level0 col7\" >SPECIAL_CONSIDERATIONS</th>\n",
              "      <th id=\"T_482ae_level0_col8\" class=\"col_heading level0 col8\" >ASK_AMT</th>\n",
              "      <th id=\"T_482ae_level0_col9\" class=\"col_heading level0 col9\" >IS_SUCCESSFUL</th>\n",
              "    </tr>\n",
              "  </thead>\n",
              "  <tbody>\n",
              "    <tr>\n",
              "      <td id=\"T_482ae_row0_col0\" class=\"data row0 col0\" >T10</td>\n",
              "      <td id=\"T_482ae_row0_col1\" class=\"data row0 col1\" >Independent</td>\n",
              "      <td id=\"T_482ae_row0_col2\" class=\"data row0 col2\" >C1000</td>\n",
              "      <td id=\"T_482ae_row0_col3\" class=\"data row0 col3\" >ProductDev</td>\n",
              "      <td id=\"T_482ae_row0_col4\" class=\"data row0 col4\" >Association</td>\n",
              "      <td id=\"T_482ae_row0_col5\" class=\"data row0 col5\" >1</td>\n",
              "      <td id=\"T_482ae_row0_col6\" class=\"data row0 col6\" >0</td>\n",
              "      <td id=\"T_482ae_row0_col7\" class=\"data row0 col7\" >N</td>\n",
              "      <td id=\"T_482ae_row0_col8\" class=\"data row0 col8\" >5,000</td>\n",
              "      <td id=\"T_482ae_row0_col9\" class=\"data row0 col9\" >1</td>\n",
              "    </tr>\n",
              "    <tr>\n",
              "      <td id=\"T_482ae_row1_col0\" class=\"data row1 col0\" >T3</td>\n",
              "      <td id=\"T_482ae_row1_col1\" class=\"data row1 col1\" >Independent</td>\n",
              "      <td id=\"T_482ae_row1_col2\" class=\"data row1 col2\" >C2000</td>\n",
              "      <td id=\"T_482ae_row1_col3\" class=\"data row1 col3\" >Preservation</td>\n",
              "      <td id=\"T_482ae_row1_col4\" class=\"data row1 col4\" >Co-operative</td>\n",
              "      <td id=\"T_482ae_row1_col5\" class=\"data row1 col5\" >1</td>\n",
              "      <td id=\"T_482ae_row1_col6\" class=\"data row1 col6\" >1-9999</td>\n",
              "      <td id=\"T_482ae_row1_col7\" class=\"data row1 col7\" >N</td>\n",
              "      <td id=\"T_482ae_row1_col8\" class=\"data row1 col8\" >108,590</td>\n",
              "      <td id=\"T_482ae_row1_col9\" class=\"data row1 col9\" >1</td>\n",
              "    </tr>\n",
              "    <tr>\n",
              "      <td id=\"T_482ae_row2_col0\" class=\"data row2 col0\" >T5</td>\n",
              "      <td id=\"T_482ae_row2_col1\" class=\"data row2 col1\" >CompanySponsored</td>\n",
              "      <td id=\"T_482ae_row2_col2\" class=\"data row2 col2\" >C3000</td>\n",
              "      <td id=\"T_482ae_row2_col3\" class=\"data row2 col3\" >ProductDev</td>\n",
              "      <td id=\"T_482ae_row2_col4\" class=\"data row2 col4\" >Association</td>\n",
              "      <td id=\"T_482ae_row2_col5\" class=\"data row2 col5\" >1</td>\n",
              "      <td id=\"T_482ae_row2_col6\" class=\"data row2 col6\" >0</td>\n",
              "      <td id=\"T_482ae_row2_col7\" class=\"data row2 col7\" >N</td>\n",
              "      <td id=\"T_482ae_row2_col8\" class=\"data row2 col8\" >5,000</td>\n",
              "      <td id=\"T_482ae_row2_col9\" class=\"data row2 col9\" >0</td>\n",
              "    </tr>\n",
              "    <tr>\n",
              "      <td id=\"T_482ae_row3_col0\" class=\"data row3 col0\" >T3</td>\n",
              "      <td id=\"T_482ae_row3_col1\" class=\"data row3 col1\" >CompanySponsored</td>\n",
              "      <td id=\"T_482ae_row3_col2\" class=\"data row3 col2\" >C2000</td>\n",
              "      <td id=\"T_482ae_row3_col3\" class=\"data row3 col3\" >Preservation</td>\n",
              "      <td id=\"T_482ae_row3_col4\" class=\"data row3 col4\" >Trust</td>\n",
              "      <td id=\"T_482ae_row3_col5\" class=\"data row3 col5\" >1</td>\n",
              "      <td id=\"T_482ae_row3_col6\" class=\"data row3 col6\" >10000-24999</td>\n",
              "      <td id=\"T_482ae_row3_col7\" class=\"data row3 col7\" >N</td>\n",
              "      <td id=\"T_482ae_row3_col8\" class=\"data row3 col8\" >6,692</td>\n",
              "      <td id=\"T_482ae_row3_col9\" class=\"data row3 col9\" >1</td>\n",
              "    </tr>\n",
              "    <tr>\n",
              "      <td id=\"T_482ae_row4_col0\" class=\"data row4 col0\" >T3</td>\n",
              "      <td id=\"T_482ae_row4_col1\" class=\"data row4 col1\" >Independent</td>\n",
              "      <td id=\"T_482ae_row4_col2\" class=\"data row4 col2\" >C1000</td>\n",
              "      <td id=\"T_482ae_row4_col3\" class=\"data row4 col3\" >Heathcare</td>\n",
              "      <td id=\"T_482ae_row4_col4\" class=\"data row4 col4\" >Trust</td>\n",
              "      <td id=\"T_482ae_row4_col5\" class=\"data row4 col5\" >1</td>\n",
              "      <td id=\"T_482ae_row4_col6\" class=\"data row4 col6\" >100000-499999</td>\n",
              "      <td id=\"T_482ae_row4_col7\" class=\"data row4 col7\" >N</td>\n",
              "      <td id=\"T_482ae_row4_col8\" class=\"data row4 col8\" >142,590</td>\n",
              "      <td id=\"T_482ae_row4_col9\" class=\"data row4 col9\" >1</td>\n",
              "    </tr>\n",
              "    <tr>\n",
              "      <td id=\"T_482ae_row5_col0\" class=\"data row5 col0\" >T3</td>\n",
              "      <td id=\"T_482ae_row5_col1\" class=\"data row5 col1\" >Independent</td>\n",
              "      <td id=\"T_482ae_row5_col2\" class=\"data row5 col2\" >C1200</td>\n",
              "      <td id=\"T_482ae_row5_col3\" class=\"data row5 col3\" >Preservation</td>\n",
              "      <td id=\"T_482ae_row5_col4\" class=\"data row5 col4\" >Trust</td>\n",
              "      <td id=\"T_482ae_row5_col5\" class=\"data row5 col5\" >1</td>\n",
              "      <td id=\"T_482ae_row5_col6\" class=\"data row5 col6\" >0</td>\n",
              "      <td id=\"T_482ae_row5_col7\" class=\"data row5 col7\" >N</td>\n",
              "      <td id=\"T_482ae_row5_col8\" class=\"data row5 col8\" >5,000</td>\n",
              "      <td id=\"T_482ae_row5_col9\" class=\"data row5 col9\" >1</td>\n",
              "    </tr>\n",
              "    <tr>\n",
              "      <td id=\"T_482ae_row6_col0\" class=\"data row6 col0\" >T3</td>\n",
              "      <td id=\"T_482ae_row6_col1\" class=\"data row6 col1\" >Independent</td>\n",
              "      <td id=\"T_482ae_row6_col2\" class=\"data row6 col2\" >C1000</td>\n",
              "      <td id=\"T_482ae_row6_col3\" class=\"data row6 col3\" >Preservation</td>\n",
              "      <td id=\"T_482ae_row6_col4\" class=\"data row6 col4\" >Trust</td>\n",
              "      <td id=\"T_482ae_row6_col5\" class=\"data row6 col5\" >1</td>\n",
              "      <td id=\"T_482ae_row6_col6\" class=\"data row6 col6\" >100000-499999</td>\n",
              "      <td id=\"T_482ae_row6_col7\" class=\"data row6 col7\" >N</td>\n",
              "      <td id=\"T_482ae_row6_col8\" class=\"data row6 col8\" >31,452</td>\n",
              "      <td id=\"T_482ae_row6_col9\" class=\"data row6 col9\" >1</td>\n",
              "    </tr>\n",
              "    <tr>\n",
              "      <td id=\"T_482ae_row7_col0\" class=\"data row7 col0\" >T3</td>\n",
              "      <td id=\"T_482ae_row7_col1\" class=\"data row7 col1\" >Independent</td>\n",
              "      <td id=\"T_482ae_row7_col2\" class=\"data row7 col2\" >C2000</td>\n",
              "      <td id=\"T_482ae_row7_col3\" class=\"data row7 col3\" >Preservation</td>\n",
              "      <td id=\"T_482ae_row7_col4\" class=\"data row7 col4\" >Trust</td>\n",
              "      <td id=\"T_482ae_row7_col5\" class=\"data row7 col5\" >1</td>\n",
              "      <td id=\"T_482ae_row7_col6\" class=\"data row7 col6\" >10M-50M</td>\n",
              "      <td id=\"T_482ae_row7_col7\" class=\"data row7 col7\" >N</td>\n",
              "      <td id=\"T_482ae_row7_col8\" class=\"data row7 col8\" >7,508,025</td>\n",
              "      <td id=\"T_482ae_row7_col9\" class=\"data row7 col9\" >1</td>\n",
              "    </tr>\n",
              "    <tr>\n",
              "      <td id=\"T_482ae_row8_col0\" class=\"data row8 col0\" >T7</td>\n",
              "      <td id=\"T_482ae_row8_col1\" class=\"data row8 col1\" >Independent</td>\n",
              "      <td id=\"T_482ae_row8_col2\" class=\"data row8 col2\" >C1000</td>\n",
              "      <td id=\"T_482ae_row8_col3\" class=\"data row8 col3\" >ProductDev</td>\n",
              "      <td id=\"T_482ae_row8_col4\" class=\"data row8 col4\" >Trust</td>\n",
              "      <td id=\"T_482ae_row8_col5\" class=\"data row8 col5\" >1</td>\n",
              "      <td id=\"T_482ae_row8_col6\" class=\"data row8 col6\" >1-9999</td>\n",
              "      <td id=\"T_482ae_row8_col7\" class=\"data row8 col7\" >N</td>\n",
              "      <td id=\"T_482ae_row8_col8\" class=\"data row8 col8\" >94,389</td>\n",
              "      <td id=\"T_482ae_row8_col9\" class=\"data row8 col9\" >1</td>\n",
              "    </tr>\n",
              "    <tr>\n",
              "      <td id=\"T_482ae_row9_col0\" class=\"data row9 col0\" >T5</td>\n",
              "      <td id=\"T_482ae_row9_col1\" class=\"data row9 col1\" >CompanySponsored</td>\n",
              "      <td id=\"T_482ae_row9_col2\" class=\"data row9 col2\" >C3000</td>\n",
              "      <td id=\"T_482ae_row9_col3\" class=\"data row9 col3\" >ProductDev</td>\n",
              "      <td id=\"T_482ae_row9_col4\" class=\"data row9 col4\" >Association</td>\n",
              "      <td id=\"T_482ae_row9_col5\" class=\"data row9 col5\" >1</td>\n",
              "      <td id=\"T_482ae_row9_col6\" class=\"data row9 col6\" >0</td>\n",
              "      <td id=\"T_482ae_row9_col7\" class=\"data row9 col7\" >N</td>\n",
              "      <td id=\"T_482ae_row9_col8\" class=\"data row9 col8\" >5,000</td>\n",
              "      <td id=\"T_482ae_row9_col9\" class=\"data row9 col9\" >0</td>\n",
              "    </tr>\n",
              "    <tr>\n",
              "      <td id=\"T_482ae_row10_col0\" class=\"data row10 col0\" >T3</td>\n",
              "      <td id=\"T_482ae_row10_col1\" class=\"data row10 col1\" >Independent</td>\n",
              "      <td id=\"T_482ae_row10_col2\" class=\"data row10 col2\" >C1200</td>\n",
              "      <td id=\"T_482ae_row10_col3\" class=\"data row10 col3\" >Preservation</td>\n",
              "      <td id=\"T_482ae_row10_col4\" class=\"data row10 col4\" >Trust</td>\n",
              "      <td id=\"T_482ae_row10_col5\" class=\"data row10 col5\" >1</td>\n",
              "      <td id=\"T_482ae_row10_col6\" class=\"data row10 col6\" >25000-99999</td>\n",
              "      <td id=\"T_482ae_row10_col7\" class=\"data row10 col7\" >N</td>\n",
              "      <td id=\"T_482ae_row10_col8\" class=\"data row10 col8\" >69,656</td>\n",
              "      <td id=\"T_482ae_row10_col9\" class=\"data row10 col9\" >0</td>\n",
              "    </tr>\n",
              "    <tr>\n",
              "      <td id=\"T_482ae_row11_col0\" class=\"data row11 col0\" >T3</td>\n",
              "      <td id=\"T_482ae_row11_col1\" class=\"data row11 col1\" >Independent</td>\n",
              "      <td id=\"T_482ae_row11_col2\" class=\"data row11 col2\" >C2000</td>\n",
              "      <td id=\"T_482ae_row11_col3\" class=\"data row11 col3\" >Preservation</td>\n",
              "      <td id=\"T_482ae_row11_col4\" class=\"data row11 col4\" >Trust</td>\n",
              "      <td id=\"T_482ae_row11_col5\" class=\"data row11 col5\" >1</td>\n",
              "      <td id=\"T_482ae_row11_col6\" class=\"data row11 col6\" >100000-499999</td>\n",
              "      <td id=\"T_482ae_row11_col7\" class=\"data row11 col7\" >N</td>\n",
              "      <td id=\"T_482ae_row11_col8\" class=\"data row11 col8\" >165,593</td>\n",
              "      <td id=\"T_482ae_row11_col9\" class=\"data row11 col9\" >0</td>\n",
              "    </tr>\n",
              "  </tbody>\n",
              "</table>\n"
            ]
          },
          "metadata": {},
          "execution_count": 92
        }
      ],
      "source": [
        "captionString \\\n",
        "    = 'Table 1.2.2: Modified Charity Data Table'\n",
        "\n",
        "currentStylerObject \\\n",
        "    = function \\\n",
        "        .ReturnStylerObjectStandardFormat \\\n",
        "            (charityDataFrame.head(12),\n",
        "             captionString)\n",
        "\n",
        "log_function \\\n",
        "    .ReturnStylerObjectSavePNGImage \\\n",
        "        (currentStylerObject,\n",
        "         captionString)"
      ]
    },
    {
      "cell_type": "markdown",
      "id": "f2a56f3b",
      "metadata": {
        "id": "f2a56f3b"
      },
      "source": [
        "## **2.2: Determine the Number of Unique Values in Each Column**"
      ]
    },
    {
      "cell_type": "code",
      "execution_count": null,
      "id": "fc7d10a9",
      "metadata": {
        "id": "fc7d10a9"
      },
      "outputs": [],
      "source": [
        "numberOfUniqueValuesInEachColumnSeries \\\n",
        "    = charityDataFrame \\\n",
        "        .nunique()\n",
        "\n",
        "log_function \\\n",
        "    .DebugReturnObjectWriteObject \\\n",
        "        (numberOfUniqueValuesInEachColumnSeries)"
      ]
    },
    {
      "cell_type": "code",
      "execution_count": null,
      "id": "d243e062",
      "metadata": {
        "id": "d243e062",
        "outputId": "079b750d-4032-4c84-c32c-8cd8a0b395df",
        "colab": {
          "base_uri": "https://localhost:8080/"
        }
      },
      "outputs": [
        {
          "output_type": "stream",
          "name": "stdout",
          "text": [
            "APPLICATION_TYPE            17\n",
            "AFFILIATION                  6\n",
            "CLASSIFICATION              71\n",
            "USE_CASE                     5\n",
            "ORGANIZATION                 4\n",
            "STATUS                       2\n",
            "INCOME_AMT                   9\n",
            "SPECIAL_CONSIDERATIONS       2\n",
            "ASK_AMT                   8747\n",
            "IS_SUCCESSFUL                2\n",
            "dtype: int64\n"
          ]
        }
      ],
      "source": [
        "log_subroutine \\\n",
        "    .PrintAndLogWriteText \\\n",
        "        (str(numberOfUniqueValuesInEachColumnSeries))"
      ]
    },
    {
      "cell_type": "markdown",
      "id": "5d7b2ee8",
      "metadata": {
        "id": "5d7b2ee8"
      },
      "source": [
        "## **2.3: APPLICATION_TYPE Binning**"
      ]
    },
    {
      "cell_type": "markdown",
      "id": "df43e38d",
      "metadata": {
        "id": "df43e38d"
      },
      "source": [
        "### **Look at APPLICATION_TYPE Value Counts for Binning**"
      ]
    },
    {
      "cell_type": "code",
      "execution_count": null,
      "id": "5314035b",
      "metadata": {
        "id": "5314035b"
      },
      "outputs": [],
      "source": [
        "applicationTypeValueCountsForBinningSeries \\\n",
        "    = charityDataFrame['APPLICATION_TYPE'] \\\n",
        "        .value_counts() \\\n",
        "        .sort_values \\\n",
        "            (ascending = False)\n",
        "\n",
        "applicationTypeValueCountsForBinningSeries \\\n",
        "    .name = 'APPLICATION_TYPE'\n",
        "\n",
        "log_function \\\n",
        "    .DebugReturnObjectWriteObject \\\n",
        "        (applicationTypeValueCountsForBinningSeries)"
      ]
    },
    {
      "cell_type": "code",
      "execution_count": null,
      "id": "30df453e",
      "metadata": {
        "id": "30df453e",
        "outputId": "a188d405-76b9-4239-86fa-f51c748b41ab",
        "colab": {
          "base_uri": "https://localhost:8080/"
        }
      },
      "outputs": [
        {
          "output_type": "stream",
          "name": "stdout",
          "text": [
            "T3     27037\n",
            "T4      1542\n",
            "T6      1216\n",
            "T5      1173\n",
            "T19     1065\n",
            "T8       737\n",
            "T7       725\n",
            "T10      528\n",
            "T9       156\n",
            "T13       66\n",
            "T12       27\n",
            "T2        16\n",
            "T25        3\n",
            "T14        3\n",
            "T29        2\n",
            "T15        2\n",
            "T17        1\n",
            "Name: APPLICATION_TYPE, dtype: int64\n"
          ]
        }
      ],
      "source": [
        "log_subroutine \\\n",
        "    .PrintAndLogWriteText \\\n",
        "        (str(applicationTypeValueCountsForBinningSeries))"
      ]
    },
    {
      "cell_type": "markdown",
      "id": "0d56ef43",
      "metadata": {
        "id": "0d56ef43"
      },
      "source": [
        "### **Choose a Cutoff Value and Create a List of Application Types to be Replaced**"
      ]
    },
    {
      "cell_type": "code",
      "execution_count": null,
      "id": "30bf4de3",
      "metadata": {
        "id": "30bf4de3"
      },
      "outputs": [],
      "source": [
        "application_types_to_replace \\\n",
        "    = list \\\n",
        "        (applicationTypeValueCountsForBinningSeries \\\n",
        "             [applicationTypeValueCountsForBinningSeries < 500].index)\n",
        "\n",
        "log_function \\\n",
        "    .DebugReturnObjectWriteObject \\\n",
        "        (application_types_to_replace)"
      ]
    },
    {
      "cell_type": "code",
      "execution_count": null,
      "id": "339bef0b",
      "metadata": {
        "id": "339bef0b",
        "outputId": "c7a6a269-d116-4843-fa32-b5e52715ea2b",
        "colab": {
          "base_uri": "https://localhost:8080/"
        }
      },
      "outputs": [
        {
          "output_type": "stream",
          "name": "stdout",
          "text": [
            "['T9', 'T13', 'T12', 'T2', 'T25', 'T14', 'T29', 'T15', 'T17']\n"
          ]
        }
      ],
      "source": [
        "log_subroutine \\\n",
        "    .PrintAndLogWriteText \\\n",
        "        (str(application_types_to_replace))"
      ]
    },
    {
      "cell_type": "markdown",
      "id": "34bfb5b7",
      "metadata": {
        "id": "34bfb5b7"
      },
      "source": [
        "### **Replace Application Types in DataFrame**"
      ]
    },
    {
      "cell_type": "code",
      "execution_count": null,
      "id": "d381f383",
      "metadata": {
        "id": "d381f383"
      },
      "outputs": [],
      "source": [
        "for applicationTypes in application_types_to_replace:\n",
        "\n",
        "    charityDataFrame['APPLICATION_TYPE'] \\\n",
        "        = charityDataFrame['APPLICATION_TYPE'] \\\n",
        "            .replace \\\n",
        "                (applicationTypes, 'Other')\n",
        "\n",
        "log_function \\\n",
        "    .DebugReturnObjectWriteObject \\\n",
        "        (charityDataFrame)"
      ]
    },
    {
      "cell_type": "markdown",
      "id": "bc016372",
      "metadata": {
        "id": "bc016372"
      },
      "source": [
        "### **Check to Make Sure Binning was Successful**"
      ]
    },
    {
      "cell_type": "code",
      "execution_count": null,
      "id": "81fce837",
      "metadata": {
        "id": "81fce837"
      },
      "outputs": [],
      "source": [
        "applicationTypeValueCountsForBinningSeries \\\n",
        "    = charityDataFrame['APPLICATION_TYPE'] \\\n",
        "        .value_counts() \\\n",
        "        .sort_values \\\n",
        "            (ascending = False)\n",
        "\n",
        "applicationTypeValueCountsForBinningSeries \\\n",
        "    .name = 'APPLICATION_TYPE'\n",
        "\n",
        "log_function \\\n",
        "    .DebugReturnObjectWriteObject \\\n",
        "        (applicationTypeValueCountsForBinningSeries)"
      ]
    },
    {
      "cell_type": "code",
      "execution_count": null,
      "id": "7771a0a5",
      "metadata": {
        "id": "7771a0a5",
        "outputId": "95e49e55-1f5c-4ee3-b193-8782fedd597c",
        "colab": {
          "base_uri": "https://localhost:8080/"
        }
      },
      "outputs": [
        {
          "output_type": "stream",
          "name": "stdout",
          "text": [
            "T3       27037\n",
            "T4        1542\n",
            "T6        1216\n",
            "T5        1173\n",
            "T19       1065\n",
            "T8         737\n",
            "T7         725\n",
            "T10        528\n",
            "Other      276\n",
            "Name: APPLICATION_TYPE, dtype: int64\n"
          ]
        }
      ],
      "source": [
        "log_subroutine \\\n",
        "    .PrintAndLogWriteText \\\n",
        "        (str(applicationTypeValueCountsForBinningSeries))"
      ]
    },
    {
      "cell_type": "markdown",
      "id": "91d66a50",
      "metadata": {
        "id": "91d66a50"
      },
      "source": [
        "## **2.4: CLASSIFICATION Binning**"
      ]
    },
    {
      "cell_type": "markdown",
      "id": "aace8c7d",
      "metadata": {
        "id": "aace8c7d"
      },
      "source": [
        "### **Look at CLASSIFICATION Value Counts for Binning**"
      ]
    },
    {
      "cell_type": "code",
      "execution_count": null,
      "id": "1fa0b0e9",
      "metadata": {
        "id": "1fa0b0e9"
      },
      "outputs": [],
      "source": [
        "classificationValueCountsForBinningSeries \\\n",
        "    = charityDataFrame['CLASSIFICATION'] \\\n",
        "        .value_counts() \\\n",
        "        .sort_values \\\n",
        "            (ascending = False)\n",
        "\n",
        "classificationValueCountsForBinningSeries \\\n",
        "    .name = 'CLASSIFICATION'\n",
        "\n",
        "log_function \\\n",
        "    .DebugReturnObjectWriteObject \\\n",
        "        (classificationValueCountsForBinningSeries)"
      ]
    },
    {
      "cell_type": "code",
      "execution_count": null,
      "id": "a8e2a0d3",
      "metadata": {
        "id": "a8e2a0d3",
        "outputId": "670b9532-74ce-4913-f4b3-850f144c8649",
        "colab": {
          "base_uri": "https://localhost:8080/"
        }
      },
      "outputs": [
        {
          "output_type": "stream",
          "name": "stdout",
          "text": [
            "C1000    17326\n",
            "C2000     6074\n",
            "C1200     4837\n",
            "C3000     1918\n",
            "C2100     1883\n",
            "         ...  \n",
            "C5200        1\n",
            "C2600        1\n",
            "C4200        1\n",
            "C2190        1\n",
            "C2150        1\n",
            "Name: CLASSIFICATION, Length: 71, dtype: int64\n"
          ]
        }
      ],
      "source": [
        "log_subroutine \\\n",
        "    .PrintAndLogWriteText \\\n",
        "        (str(classificationValueCountsForBinningSeries))"
      ]
    },
    {
      "cell_type": "markdown",
      "id": "cc9ffd3b",
      "metadata": {
        "id": "cc9ffd3b"
      },
      "source": [
        "### **Look at CLASSIFICATION Value Counts > 1**"
      ]
    },
    {
      "cell_type": "code",
      "execution_count": null,
      "id": "89b0e20c",
      "metadata": {
        "id": "89b0e20c",
        "outputId": "1687e0ba-862b-4f45-855b-f61472d4f96f",
        "colab": {
          "base_uri": "https://localhost:8080/"
        }
      },
      "outputs": [
        {
          "output_type": "execute_result",
          "data": {
            "text/plain": [
              "C1000    17326\n",
              "C2000     6074\n",
              "C1200     4837\n",
              "C3000     1918\n",
              "C2100     1883\n",
              "C7000      777\n",
              "C1700      287\n",
              "C4000      194\n",
              "C5000      116\n",
              "C1270      114\n",
              "C2700      104\n",
              "C2800       95\n",
              "C7100       75\n",
              "C1300       58\n",
              "C1280       50\n",
              "C1230       36\n",
              "C1400       34\n",
              "C2300       32\n",
              "C7200       32\n",
              "C1240       30\n",
              "C8000       20\n",
              "C7120       18\n",
              "C1500       16\n",
              "C1800       15\n",
              "C6000       15\n",
              "C1250       14\n",
              "C8200       11\n",
              "C1278       10\n",
              "C1238       10\n",
              "C1235        9\n",
              "C1237        9\n",
              "C7210        7\n",
              "C2400        6\n",
              "C1720        6\n",
              "C4100        6\n",
              "C1600        5\n",
              "C1257        5\n",
              "C1260        3\n",
              "C0           3\n",
              "C2710        3\n",
              "C3200        2\n",
              "C1234        2\n",
              "C1246        2\n",
              "C1267        2\n",
              "C1256        2\n",
              "Name: CLASSIFICATION, dtype: int64"
            ]
          },
          "metadata": {},
          "execution_count": 104
        }
      ],
      "source": [
        "classificationValueCountsForBinningSeries \\\n",
        "    [classificationValueCountsForBinningSeries > 1]"
      ]
    },
    {
      "cell_type": "markdown",
      "id": "51704c42",
      "metadata": {
        "id": "51704c42"
      },
      "source": [
        "### **Choose a Cutoff Value and Create a List of Classifications to be Replaced**"
      ]
    },
    {
      "cell_type": "code",
      "execution_count": null,
      "id": "8f2f7b25",
      "metadata": {
        "id": "8f2f7b25"
      },
      "outputs": [],
      "source": [
        "classifications_to_replace \\\n",
        "    = list \\\n",
        "        (classificationValueCountsForBinningSeries \\\n",
        "             [classificationValueCountsForBinningSeries < 100].index)\n",
        "\n",
        "log_function \\\n",
        "    .DebugReturnObjectWriteObject \\\n",
        "        (classifications_to_replace)"
      ]
    },
    {
      "cell_type": "markdown",
      "id": "25e014a8",
      "metadata": {
        "id": "25e014a8"
      },
      "source": [
        "### **Replace Classifications in DataFrame**"
      ]
    },
    {
      "cell_type": "code",
      "execution_count": null,
      "id": "0f954b94",
      "metadata": {
        "id": "0f954b94"
      },
      "outputs": [],
      "source": [
        "for classification in classifications_to_replace:\n",
        "\n",
        "    charityDataFrame['CLASSIFICATION'] \\\n",
        "        = charityDataFrame['CLASSIFICATION'] \\\n",
        "            .replace \\\n",
        "                (classification, 'Other')\n",
        "\n",
        "log_function \\\n",
        "    .DebugReturnObjectWriteObject \\\n",
        "        (charityDataFrame)"
      ]
    },
    {
      "cell_type": "markdown",
      "id": "052fb343",
      "metadata": {
        "id": "052fb343"
      },
      "source": [
        "### **Check to Make Sure Binning was Successful**"
      ]
    },
    {
      "cell_type": "code",
      "execution_count": null,
      "id": "636509d9",
      "metadata": {
        "id": "636509d9"
      },
      "outputs": [],
      "source": [
        "classificationValueCountsForBinningSeries \\\n",
        "    = charityDataFrame['CLASSIFICATION'] \\\n",
        "        .value_counts() \\\n",
        "        .sort_values \\\n",
        "            (ascending = False)\n",
        "\n",
        "classificationValueCountsForBinningSeries \\\n",
        "    .name = 'CLASSIFICATION'\n",
        "\n",
        "log_function \\\n",
        "    .DebugReturnObjectWriteObject \\\n",
        "        (classificationValueCountsForBinningSeries)"
      ]
    },
    {
      "cell_type": "code",
      "execution_count": null,
      "id": "0ebaff30",
      "metadata": {
        "id": "0ebaff30",
        "outputId": "b3d598f1-5048-4449-97d8-ad13a7906233",
        "colab": {
          "base_uri": "https://localhost:8080/"
        }
      },
      "outputs": [
        {
          "output_type": "stream",
          "name": "stdout",
          "text": [
            "C1000    17326\n",
            "C2000     6074\n",
            "C1200     4837\n",
            "C3000     1918\n",
            "C2100     1883\n",
            "C7000      777\n",
            "Other      669\n",
            "C1700      287\n",
            "C4000      194\n",
            "C5000      116\n",
            "C1270      114\n",
            "C2700      104\n",
            "Name: CLASSIFICATION, dtype: int64\n"
          ]
        }
      ],
      "source": [
        "log_subroutine \\\n",
        "    .PrintAndLogWriteText \\\n",
        "        (str(classificationValueCountsForBinningSeries))"
      ]
    },
    {
      "cell_type": "markdown",
      "id": "dd3d01c5",
      "metadata": {
        "id": "dd3d01c5"
      },
      "source": [
        "## **2.5: Final Preprocessing**"
      ]
    },
    {
      "cell_type": "markdown",
      "id": "0f574c94",
      "metadata": {
        "id": "0f574c94"
      },
      "source": [
        "### **Convert Categorical Data to Numeric with `pd.get_dummies`**"
      ]
    },
    {
      "cell_type": "code",
      "execution_count": null,
      "id": "17ee52ce",
      "metadata": {
        "id": "17ee52ce"
      },
      "outputs": [],
      "source": [
        "dummiesDataFrame \\\n",
        "    = pd.get_dummies \\\n",
        "        (charityDataFrame)\n",
        "\n",
        "log_function \\\n",
        "    .DebugReturnObjectWriteObject \\\n",
        "        (dummiesDataFrame)"
      ]
    },
    {
      "cell_type": "code",
      "execution_count": null,
      "id": "2ceb44b2",
      "metadata": {
        "id": "2ceb44b2",
        "outputId": "ba58350d-a895-44be-fa8d-cb1a6504fd77",
        "colab": {
          "base_uri": "https://localhost:8080/",
          "height": 500
        }
      },
      "outputs": [
        {
          "output_type": "execute_result",
          "data": {
            "text/plain": [
              "<pandas.io.formats.style.Styler at 0x790319204640>"
            ],
            "text/html": [
              "<style type=\"text/css\">\n",
              "#T_9a616 caption {\n",
              "  color: black;\n",
              "  font-size: 20px;\n",
              "  font-style: bold;\n",
              "  text-align: center;\n",
              "}\n",
              "#T_9a616_row0_col0, #T_9a616_row0_col1, #T_9a616_row0_col2, #T_9a616_row0_col3, #T_9a616_row0_col4, #T_9a616_row0_col5, #T_9a616_row0_col6, #T_9a616_row0_col7, #T_9a616_row0_col8, #T_9a616_row0_col9, #T_9a616_row0_col10, #T_9a616_row0_col11, #T_9a616_row0_col12, #T_9a616_row0_col13, #T_9a616_row0_col14, #T_9a616_row0_col15, #T_9a616_row0_col16, #T_9a616_row0_col17, #T_9a616_row0_col18, #T_9a616_row0_col19, #T_9a616_row0_col20, #T_9a616_row0_col21, #T_9a616_row0_col22, #T_9a616_row0_col23, #T_9a616_row0_col24, #T_9a616_row0_col25, #T_9a616_row0_col26, #T_9a616_row0_col27, #T_9a616_row0_col28, #T_9a616_row0_col29, #T_9a616_row0_col30, #T_9a616_row0_col31, #T_9a616_row0_col32, #T_9a616_row0_col33, #T_9a616_row0_col34, #T_9a616_row0_col35, #T_9a616_row0_col36, #T_9a616_row0_col37, #T_9a616_row0_col38, #T_9a616_row0_col39, #T_9a616_row0_col40, #T_9a616_row0_col41, #T_9a616_row0_col42, #T_9a616_row0_col43, #T_9a616_row0_col44, #T_9a616_row0_col45, #T_9a616_row0_col46, #T_9a616_row0_col47, #T_9a616_row0_col48, #T_9a616_row0_col49, #T_9a616_row1_col0, #T_9a616_row1_col1, #T_9a616_row1_col2, #T_9a616_row1_col3, #T_9a616_row1_col4, #T_9a616_row1_col5, #T_9a616_row1_col6, #T_9a616_row1_col7, #T_9a616_row1_col8, #T_9a616_row1_col9, #T_9a616_row1_col10, #T_9a616_row1_col11, #T_9a616_row1_col12, #T_9a616_row1_col13, #T_9a616_row1_col14, #T_9a616_row1_col15, #T_9a616_row1_col16, #T_9a616_row1_col17, #T_9a616_row1_col18, #T_9a616_row1_col19, #T_9a616_row1_col20, #T_9a616_row1_col21, #T_9a616_row1_col22, #T_9a616_row1_col23, #T_9a616_row1_col24, #T_9a616_row1_col25, #T_9a616_row1_col26, #T_9a616_row1_col27, #T_9a616_row1_col28, #T_9a616_row1_col29, #T_9a616_row1_col30, #T_9a616_row1_col31, #T_9a616_row1_col32, #T_9a616_row1_col33, #T_9a616_row1_col34, #T_9a616_row1_col35, #T_9a616_row1_col36, #T_9a616_row1_col37, #T_9a616_row1_col38, #T_9a616_row1_col39, #T_9a616_row1_col40, #T_9a616_row1_col41, #T_9a616_row1_col42, #T_9a616_row1_col43, #T_9a616_row1_col44, #T_9a616_row1_col45, #T_9a616_row1_col46, #T_9a616_row1_col47, #T_9a616_row1_col48, #T_9a616_row1_col49, #T_9a616_row2_col0, #T_9a616_row2_col1, #T_9a616_row2_col2, #T_9a616_row2_col3, #T_9a616_row2_col4, #T_9a616_row2_col5, #T_9a616_row2_col6, #T_9a616_row2_col7, #T_9a616_row2_col8, #T_9a616_row2_col9, #T_9a616_row2_col10, #T_9a616_row2_col11, #T_9a616_row2_col12, #T_9a616_row2_col13, #T_9a616_row2_col14, #T_9a616_row2_col15, #T_9a616_row2_col16, #T_9a616_row2_col17, #T_9a616_row2_col18, #T_9a616_row2_col19, #T_9a616_row2_col20, #T_9a616_row2_col21, #T_9a616_row2_col22, #T_9a616_row2_col23, #T_9a616_row2_col24, #T_9a616_row2_col25, #T_9a616_row2_col26, #T_9a616_row2_col27, #T_9a616_row2_col28, #T_9a616_row2_col29, #T_9a616_row2_col30, #T_9a616_row2_col31, #T_9a616_row2_col32, #T_9a616_row2_col33, #T_9a616_row2_col34, #T_9a616_row2_col35, #T_9a616_row2_col36, #T_9a616_row2_col37, #T_9a616_row2_col38, #T_9a616_row2_col39, #T_9a616_row2_col40, #T_9a616_row2_col41, #T_9a616_row2_col42, #T_9a616_row2_col43, #T_9a616_row2_col44, #T_9a616_row2_col45, #T_9a616_row2_col46, #T_9a616_row2_col47, #T_9a616_row2_col48, #T_9a616_row2_col49, #T_9a616_row3_col0, #T_9a616_row3_col1, #T_9a616_row3_col2, #T_9a616_row3_col3, #T_9a616_row3_col4, #T_9a616_row3_col5, #T_9a616_row3_col6, #T_9a616_row3_col7, #T_9a616_row3_col8, #T_9a616_row3_col9, #T_9a616_row3_col10, #T_9a616_row3_col11, #T_9a616_row3_col12, #T_9a616_row3_col13, #T_9a616_row3_col14, #T_9a616_row3_col15, #T_9a616_row3_col16, #T_9a616_row3_col17, #T_9a616_row3_col18, #T_9a616_row3_col19, #T_9a616_row3_col20, #T_9a616_row3_col21, #T_9a616_row3_col22, #T_9a616_row3_col23, #T_9a616_row3_col24, #T_9a616_row3_col25, #T_9a616_row3_col26, #T_9a616_row3_col27, #T_9a616_row3_col28, #T_9a616_row3_col29, #T_9a616_row3_col30, #T_9a616_row3_col31, #T_9a616_row3_col32, #T_9a616_row3_col33, #T_9a616_row3_col34, #T_9a616_row3_col35, #T_9a616_row3_col36, #T_9a616_row3_col37, #T_9a616_row3_col38, #T_9a616_row3_col39, #T_9a616_row3_col40, #T_9a616_row3_col41, #T_9a616_row3_col42, #T_9a616_row3_col43, #T_9a616_row3_col44, #T_9a616_row3_col45, #T_9a616_row3_col46, #T_9a616_row3_col47, #T_9a616_row3_col48, #T_9a616_row3_col49, #T_9a616_row4_col0, #T_9a616_row4_col1, #T_9a616_row4_col2, #T_9a616_row4_col3, #T_9a616_row4_col4, #T_9a616_row4_col5, #T_9a616_row4_col6, #T_9a616_row4_col7, #T_9a616_row4_col8, #T_9a616_row4_col9, #T_9a616_row4_col10, #T_9a616_row4_col11, #T_9a616_row4_col12, #T_9a616_row4_col13, #T_9a616_row4_col14, #T_9a616_row4_col15, #T_9a616_row4_col16, #T_9a616_row4_col17, #T_9a616_row4_col18, #T_9a616_row4_col19, #T_9a616_row4_col20, #T_9a616_row4_col21, #T_9a616_row4_col22, #T_9a616_row4_col23, #T_9a616_row4_col24, #T_9a616_row4_col25, #T_9a616_row4_col26, #T_9a616_row4_col27, #T_9a616_row4_col28, #T_9a616_row4_col29, #T_9a616_row4_col30, #T_9a616_row4_col31, #T_9a616_row4_col32, #T_9a616_row4_col33, #T_9a616_row4_col34, #T_9a616_row4_col35, #T_9a616_row4_col36, #T_9a616_row4_col37, #T_9a616_row4_col38, #T_9a616_row4_col39, #T_9a616_row4_col40, #T_9a616_row4_col41, #T_9a616_row4_col42, #T_9a616_row4_col43, #T_9a616_row4_col44, #T_9a616_row4_col45, #T_9a616_row4_col46, #T_9a616_row4_col47, #T_9a616_row4_col48, #T_9a616_row4_col49, #T_9a616_row5_col0, #T_9a616_row5_col1, #T_9a616_row5_col2, #T_9a616_row5_col3, #T_9a616_row5_col4, #T_9a616_row5_col5, #T_9a616_row5_col6, #T_9a616_row5_col7, #T_9a616_row5_col8, #T_9a616_row5_col9, #T_9a616_row5_col10, #T_9a616_row5_col11, #T_9a616_row5_col12, #T_9a616_row5_col13, #T_9a616_row5_col14, #T_9a616_row5_col15, #T_9a616_row5_col16, #T_9a616_row5_col17, #T_9a616_row5_col18, #T_9a616_row5_col19, #T_9a616_row5_col20, #T_9a616_row5_col21, #T_9a616_row5_col22, #T_9a616_row5_col23, #T_9a616_row5_col24, #T_9a616_row5_col25, #T_9a616_row5_col26, #T_9a616_row5_col27, #T_9a616_row5_col28, #T_9a616_row5_col29, #T_9a616_row5_col30, #T_9a616_row5_col31, #T_9a616_row5_col32, #T_9a616_row5_col33, #T_9a616_row5_col34, #T_9a616_row5_col35, #T_9a616_row5_col36, #T_9a616_row5_col37, #T_9a616_row5_col38, #T_9a616_row5_col39, #T_9a616_row5_col40, #T_9a616_row5_col41, #T_9a616_row5_col42, #T_9a616_row5_col43, #T_9a616_row5_col44, #T_9a616_row5_col45, #T_9a616_row5_col46, #T_9a616_row5_col47, #T_9a616_row5_col48, #T_9a616_row5_col49, #T_9a616_row6_col0, #T_9a616_row6_col1, #T_9a616_row6_col2, #T_9a616_row6_col3, #T_9a616_row6_col4, #T_9a616_row6_col5, #T_9a616_row6_col6, #T_9a616_row6_col7, #T_9a616_row6_col8, #T_9a616_row6_col9, #T_9a616_row6_col10, #T_9a616_row6_col11, #T_9a616_row6_col12, #T_9a616_row6_col13, #T_9a616_row6_col14, #T_9a616_row6_col15, #T_9a616_row6_col16, #T_9a616_row6_col17, #T_9a616_row6_col18, #T_9a616_row6_col19, #T_9a616_row6_col20, #T_9a616_row6_col21, #T_9a616_row6_col22, #T_9a616_row6_col23, #T_9a616_row6_col24, #T_9a616_row6_col25, #T_9a616_row6_col26, #T_9a616_row6_col27, #T_9a616_row6_col28, #T_9a616_row6_col29, #T_9a616_row6_col30, #T_9a616_row6_col31, #T_9a616_row6_col32, #T_9a616_row6_col33, #T_9a616_row6_col34, #T_9a616_row6_col35, #T_9a616_row6_col36, #T_9a616_row6_col37, #T_9a616_row6_col38, #T_9a616_row6_col39, #T_9a616_row6_col40, #T_9a616_row6_col41, #T_9a616_row6_col42, #T_9a616_row6_col43, #T_9a616_row6_col44, #T_9a616_row6_col45, #T_9a616_row6_col46, #T_9a616_row6_col47, #T_9a616_row6_col48, #T_9a616_row6_col49, #T_9a616_row7_col0, #T_9a616_row7_col1, #T_9a616_row7_col2, #T_9a616_row7_col3, #T_9a616_row7_col4, #T_9a616_row7_col5, #T_9a616_row7_col6, #T_9a616_row7_col7, #T_9a616_row7_col8, #T_9a616_row7_col9, #T_9a616_row7_col10, #T_9a616_row7_col11, #T_9a616_row7_col12, #T_9a616_row7_col13, #T_9a616_row7_col14, #T_9a616_row7_col15, #T_9a616_row7_col16, #T_9a616_row7_col17, #T_9a616_row7_col18, #T_9a616_row7_col19, #T_9a616_row7_col20, #T_9a616_row7_col21, #T_9a616_row7_col22, #T_9a616_row7_col23, #T_9a616_row7_col24, #T_9a616_row7_col25, #T_9a616_row7_col26, #T_9a616_row7_col27, #T_9a616_row7_col28, #T_9a616_row7_col29, #T_9a616_row7_col30, #T_9a616_row7_col31, #T_9a616_row7_col32, #T_9a616_row7_col33, #T_9a616_row7_col34, #T_9a616_row7_col35, #T_9a616_row7_col36, #T_9a616_row7_col37, #T_9a616_row7_col38, #T_9a616_row7_col39, #T_9a616_row7_col40, #T_9a616_row7_col41, #T_9a616_row7_col42, #T_9a616_row7_col43, #T_9a616_row7_col44, #T_9a616_row7_col45, #T_9a616_row7_col46, #T_9a616_row7_col47, #T_9a616_row7_col48, #T_9a616_row7_col49, #T_9a616_row8_col0, #T_9a616_row8_col1, #T_9a616_row8_col2, #T_9a616_row8_col3, #T_9a616_row8_col4, #T_9a616_row8_col5, #T_9a616_row8_col6, #T_9a616_row8_col7, #T_9a616_row8_col8, #T_9a616_row8_col9, #T_9a616_row8_col10, #T_9a616_row8_col11, #T_9a616_row8_col12, #T_9a616_row8_col13, #T_9a616_row8_col14, #T_9a616_row8_col15, #T_9a616_row8_col16, #T_9a616_row8_col17, #T_9a616_row8_col18, #T_9a616_row8_col19, #T_9a616_row8_col20, #T_9a616_row8_col21, #T_9a616_row8_col22, #T_9a616_row8_col23, #T_9a616_row8_col24, #T_9a616_row8_col25, #T_9a616_row8_col26, #T_9a616_row8_col27, #T_9a616_row8_col28, #T_9a616_row8_col29, #T_9a616_row8_col30, #T_9a616_row8_col31, #T_9a616_row8_col32, #T_9a616_row8_col33, #T_9a616_row8_col34, #T_9a616_row8_col35, #T_9a616_row8_col36, #T_9a616_row8_col37, #T_9a616_row8_col38, #T_9a616_row8_col39, #T_9a616_row8_col40, #T_9a616_row8_col41, #T_9a616_row8_col42, #T_9a616_row8_col43, #T_9a616_row8_col44, #T_9a616_row8_col45, #T_9a616_row8_col46, #T_9a616_row8_col47, #T_9a616_row8_col48, #T_9a616_row8_col49, #T_9a616_row9_col0, #T_9a616_row9_col1, #T_9a616_row9_col2, #T_9a616_row9_col3, #T_9a616_row9_col4, #T_9a616_row9_col5, #T_9a616_row9_col6, #T_9a616_row9_col7, #T_9a616_row9_col8, #T_9a616_row9_col9, #T_9a616_row9_col10, #T_9a616_row9_col11, #T_9a616_row9_col12, #T_9a616_row9_col13, #T_9a616_row9_col14, #T_9a616_row9_col15, #T_9a616_row9_col16, #T_9a616_row9_col17, #T_9a616_row9_col18, #T_9a616_row9_col19, #T_9a616_row9_col20, #T_9a616_row9_col21, #T_9a616_row9_col22, #T_9a616_row9_col23, #T_9a616_row9_col24, #T_9a616_row9_col25, #T_9a616_row9_col26, #T_9a616_row9_col27, #T_9a616_row9_col28, #T_9a616_row9_col29, #T_9a616_row9_col30, #T_9a616_row9_col31, #T_9a616_row9_col32, #T_9a616_row9_col33, #T_9a616_row9_col34, #T_9a616_row9_col35, #T_9a616_row9_col36, #T_9a616_row9_col37, #T_9a616_row9_col38, #T_9a616_row9_col39, #T_9a616_row9_col40, #T_9a616_row9_col41, #T_9a616_row9_col42, #T_9a616_row9_col43, #T_9a616_row9_col44, #T_9a616_row9_col45, #T_9a616_row9_col46, #T_9a616_row9_col47, #T_9a616_row9_col48, #T_9a616_row9_col49, #T_9a616_row10_col0, #T_9a616_row10_col1, #T_9a616_row10_col2, #T_9a616_row10_col3, #T_9a616_row10_col4, #T_9a616_row10_col5, #T_9a616_row10_col6, #T_9a616_row10_col7, #T_9a616_row10_col8, #T_9a616_row10_col9, #T_9a616_row10_col10, #T_9a616_row10_col11, #T_9a616_row10_col12, #T_9a616_row10_col13, #T_9a616_row10_col14, #T_9a616_row10_col15, #T_9a616_row10_col16, #T_9a616_row10_col17, #T_9a616_row10_col18, #T_9a616_row10_col19, #T_9a616_row10_col20, #T_9a616_row10_col21, #T_9a616_row10_col22, #T_9a616_row10_col23, #T_9a616_row10_col24, #T_9a616_row10_col25, #T_9a616_row10_col26, #T_9a616_row10_col27, #T_9a616_row10_col28, #T_9a616_row10_col29, #T_9a616_row10_col30, #T_9a616_row10_col31, #T_9a616_row10_col32, #T_9a616_row10_col33, #T_9a616_row10_col34, #T_9a616_row10_col35, #T_9a616_row10_col36, #T_9a616_row10_col37, #T_9a616_row10_col38, #T_9a616_row10_col39, #T_9a616_row10_col40, #T_9a616_row10_col41, #T_9a616_row10_col42, #T_9a616_row10_col43, #T_9a616_row10_col44, #T_9a616_row10_col45, #T_9a616_row10_col46, #T_9a616_row10_col47, #T_9a616_row10_col48, #T_9a616_row10_col49, #T_9a616_row11_col0, #T_9a616_row11_col1, #T_9a616_row11_col2, #T_9a616_row11_col3, #T_9a616_row11_col4, #T_9a616_row11_col5, #T_9a616_row11_col6, #T_9a616_row11_col7, #T_9a616_row11_col8, #T_9a616_row11_col9, #T_9a616_row11_col10, #T_9a616_row11_col11, #T_9a616_row11_col12, #T_9a616_row11_col13, #T_9a616_row11_col14, #T_9a616_row11_col15, #T_9a616_row11_col16, #T_9a616_row11_col17, #T_9a616_row11_col18, #T_9a616_row11_col19, #T_9a616_row11_col20, #T_9a616_row11_col21, #T_9a616_row11_col22, #T_9a616_row11_col23, #T_9a616_row11_col24, #T_9a616_row11_col25, #T_9a616_row11_col26, #T_9a616_row11_col27, #T_9a616_row11_col28, #T_9a616_row11_col29, #T_9a616_row11_col30, #T_9a616_row11_col31, #T_9a616_row11_col32, #T_9a616_row11_col33, #T_9a616_row11_col34, #T_9a616_row11_col35, #T_9a616_row11_col36, #T_9a616_row11_col37, #T_9a616_row11_col38, #T_9a616_row11_col39, #T_9a616_row11_col40, #T_9a616_row11_col41, #T_9a616_row11_col42, #T_9a616_row11_col43, #T_9a616_row11_col44, #T_9a616_row11_col45, #T_9a616_row11_col46, #T_9a616_row11_col47, #T_9a616_row11_col48, #T_9a616_row11_col49 {\n",
              "  text-align: center;\n",
              "  border: 1.3px solid red;\n",
              "  color: blue;\n",
              "}\n",
              "</style>\n",
              "<table id=\"T_9a616\" class=\"dataframe\">\n",
              "  <caption>Table 2.5.1: Dummies DataFrame Table</caption>\n",
              "  <thead>\n",
              "    <tr>\n",
              "      <th id=\"T_9a616_level0_col0\" class=\"col_heading level0 col0\" >STATUS</th>\n",
              "      <th id=\"T_9a616_level0_col1\" class=\"col_heading level0 col1\" >ASK_AMT</th>\n",
              "      <th id=\"T_9a616_level0_col2\" class=\"col_heading level0 col2\" >IS_SUCCESSFUL</th>\n",
              "      <th id=\"T_9a616_level0_col3\" class=\"col_heading level0 col3\" >APPLICATION_TYPE_Other</th>\n",
              "      <th id=\"T_9a616_level0_col4\" class=\"col_heading level0 col4\" >APPLICATION_TYPE_T10</th>\n",
              "      <th id=\"T_9a616_level0_col5\" class=\"col_heading level0 col5\" >APPLICATION_TYPE_T19</th>\n",
              "      <th id=\"T_9a616_level0_col6\" class=\"col_heading level0 col6\" >APPLICATION_TYPE_T3</th>\n",
              "      <th id=\"T_9a616_level0_col7\" class=\"col_heading level0 col7\" >APPLICATION_TYPE_T4</th>\n",
              "      <th id=\"T_9a616_level0_col8\" class=\"col_heading level0 col8\" >APPLICATION_TYPE_T5</th>\n",
              "      <th id=\"T_9a616_level0_col9\" class=\"col_heading level0 col9\" >APPLICATION_TYPE_T6</th>\n",
              "      <th id=\"T_9a616_level0_col10\" class=\"col_heading level0 col10\" >APPLICATION_TYPE_T7</th>\n",
              "      <th id=\"T_9a616_level0_col11\" class=\"col_heading level0 col11\" >APPLICATION_TYPE_T8</th>\n",
              "      <th id=\"T_9a616_level0_col12\" class=\"col_heading level0 col12\" >AFFILIATION_CompanySponsored</th>\n",
              "      <th id=\"T_9a616_level0_col13\" class=\"col_heading level0 col13\" >AFFILIATION_Family/Parent</th>\n",
              "      <th id=\"T_9a616_level0_col14\" class=\"col_heading level0 col14\" >AFFILIATION_Independent</th>\n",
              "      <th id=\"T_9a616_level0_col15\" class=\"col_heading level0 col15\" >AFFILIATION_National</th>\n",
              "      <th id=\"T_9a616_level0_col16\" class=\"col_heading level0 col16\" >AFFILIATION_Other</th>\n",
              "      <th id=\"T_9a616_level0_col17\" class=\"col_heading level0 col17\" >AFFILIATION_Regional</th>\n",
              "      <th id=\"T_9a616_level0_col18\" class=\"col_heading level0 col18\" >CLASSIFICATION_C1000</th>\n",
              "      <th id=\"T_9a616_level0_col19\" class=\"col_heading level0 col19\" >CLASSIFICATION_C1200</th>\n",
              "      <th id=\"T_9a616_level0_col20\" class=\"col_heading level0 col20\" >CLASSIFICATION_C1270</th>\n",
              "      <th id=\"T_9a616_level0_col21\" class=\"col_heading level0 col21\" >CLASSIFICATION_C1700</th>\n",
              "      <th id=\"T_9a616_level0_col22\" class=\"col_heading level0 col22\" >CLASSIFICATION_C2000</th>\n",
              "      <th id=\"T_9a616_level0_col23\" class=\"col_heading level0 col23\" >CLASSIFICATION_C2100</th>\n",
              "      <th id=\"T_9a616_level0_col24\" class=\"col_heading level0 col24\" >CLASSIFICATION_C2700</th>\n",
              "      <th id=\"T_9a616_level0_col25\" class=\"col_heading level0 col25\" >CLASSIFICATION_C3000</th>\n",
              "      <th id=\"T_9a616_level0_col26\" class=\"col_heading level0 col26\" >CLASSIFICATION_C4000</th>\n",
              "      <th id=\"T_9a616_level0_col27\" class=\"col_heading level0 col27\" >CLASSIFICATION_C5000</th>\n",
              "      <th id=\"T_9a616_level0_col28\" class=\"col_heading level0 col28\" >CLASSIFICATION_C7000</th>\n",
              "      <th id=\"T_9a616_level0_col29\" class=\"col_heading level0 col29\" >CLASSIFICATION_Other</th>\n",
              "      <th id=\"T_9a616_level0_col30\" class=\"col_heading level0 col30\" >USE_CASE_CommunityServ</th>\n",
              "      <th id=\"T_9a616_level0_col31\" class=\"col_heading level0 col31\" >USE_CASE_Heathcare</th>\n",
              "      <th id=\"T_9a616_level0_col32\" class=\"col_heading level0 col32\" >USE_CASE_Other</th>\n",
              "      <th id=\"T_9a616_level0_col33\" class=\"col_heading level0 col33\" >USE_CASE_Preservation</th>\n",
              "      <th id=\"T_9a616_level0_col34\" class=\"col_heading level0 col34\" >USE_CASE_ProductDev</th>\n",
              "      <th id=\"T_9a616_level0_col35\" class=\"col_heading level0 col35\" >ORGANIZATION_Association</th>\n",
              "      <th id=\"T_9a616_level0_col36\" class=\"col_heading level0 col36\" >ORGANIZATION_Co-operative</th>\n",
              "      <th id=\"T_9a616_level0_col37\" class=\"col_heading level0 col37\" >ORGANIZATION_Corporation</th>\n",
              "      <th id=\"T_9a616_level0_col38\" class=\"col_heading level0 col38\" >ORGANIZATION_Trust</th>\n",
              "      <th id=\"T_9a616_level0_col39\" class=\"col_heading level0 col39\" >INCOME_AMT_0</th>\n",
              "      <th id=\"T_9a616_level0_col40\" class=\"col_heading level0 col40\" >INCOME_AMT_1-9999</th>\n",
              "      <th id=\"T_9a616_level0_col41\" class=\"col_heading level0 col41\" >INCOME_AMT_10000-24999</th>\n",
              "      <th id=\"T_9a616_level0_col42\" class=\"col_heading level0 col42\" >INCOME_AMT_100000-499999</th>\n",
              "      <th id=\"T_9a616_level0_col43\" class=\"col_heading level0 col43\" >INCOME_AMT_10M-50M</th>\n",
              "      <th id=\"T_9a616_level0_col44\" class=\"col_heading level0 col44\" >INCOME_AMT_1M-5M</th>\n",
              "      <th id=\"T_9a616_level0_col45\" class=\"col_heading level0 col45\" >INCOME_AMT_25000-99999</th>\n",
              "      <th id=\"T_9a616_level0_col46\" class=\"col_heading level0 col46\" >INCOME_AMT_50M+</th>\n",
              "      <th id=\"T_9a616_level0_col47\" class=\"col_heading level0 col47\" >INCOME_AMT_5M-10M</th>\n",
              "      <th id=\"T_9a616_level0_col48\" class=\"col_heading level0 col48\" >SPECIAL_CONSIDERATIONS_N</th>\n",
              "      <th id=\"T_9a616_level0_col49\" class=\"col_heading level0 col49\" >SPECIAL_CONSIDERATIONS_Y</th>\n",
              "    </tr>\n",
              "  </thead>\n",
              "  <tbody>\n",
              "    <tr>\n",
              "      <td id=\"T_9a616_row0_col0\" class=\"data row0 col0\" >1</td>\n",
              "      <td id=\"T_9a616_row0_col1\" class=\"data row0 col1\" >5,000</td>\n",
              "      <td id=\"T_9a616_row0_col2\" class=\"data row0 col2\" >1</td>\n",
              "      <td id=\"T_9a616_row0_col3\" class=\"data row0 col3\" >0</td>\n",
              "      <td id=\"T_9a616_row0_col4\" class=\"data row0 col4\" >1</td>\n",
              "      <td id=\"T_9a616_row0_col5\" class=\"data row0 col5\" >0</td>\n",
              "      <td id=\"T_9a616_row0_col6\" class=\"data row0 col6\" >0</td>\n",
              "      <td id=\"T_9a616_row0_col7\" class=\"data row0 col7\" >0</td>\n",
              "      <td id=\"T_9a616_row0_col8\" class=\"data row0 col8\" >0</td>\n",
              "      <td id=\"T_9a616_row0_col9\" class=\"data row0 col9\" >0</td>\n",
              "      <td id=\"T_9a616_row0_col10\" class=\"data row0 col10\" >0</td>\n",
              "      <td id=\"T_9a616_row0_col11\" class=\"data row0 col11\" >0</td>\n",
              "      <td id=\"T_9a616_row0_col12\" class=\"data row0 col12\" >0</td>\n",
              "      <td id=\"T_9a616_row0_col13\" class=\"data row0 col13\" >0</td>\n",
              "      <td id=\"T_9a616_row0_col14\" class=\"data row0 col14\" >1</td>\n",
              "      <td id=\"T_9a616_row0_col15\" class=\"data row0 col15\" >0</td>\n",
              "      <td id=\"T_9a616_row0_col16\" class=\"data row0 col16\" >0</td>\n",
              "      <td id=\"T_9a616_row0_col17\" class=\"data row0 col17\" >0</td>\n",
              "      <td id=\"T_9a616_row0_col18\" class=\"data row0 col18\" >1</td>\n",
              "      <td id=\"T_9a616_row0_col19\" class=\"data row0 col19\" >0</td>\n",
              "      <td id=\"T_9a616_row0_col20\" class=\"data row0 col20\" >0</td>\n",
              "      <td id=\"T_9a616_row0_col21\" class=\"data row0 col21\" >0</td>\n",
              "      <td id=\"T_9a616_row0_col22\" class=\"data row0 col22\" >0</td>\n",
              "      <td id=\"T_9a616_row0_col23\" class=\"data row0 col23\" >0</td>\n",
              "      <td id=\"T_9a616_row0_col24\" class=\"data row0 col24\" >0</td>\n",
              "      <td id=\"T_9a616_row0_col25\" class=\"data row0 col25\" >0</td>\n",
              "      <td id=\"T_9a616_row0_col26\" class=\"data row0 col26\" >0</td>\n",
              "      <td id=\"T_9a616_row0_col27\" class=\"data row0 col27\" >0</td>\n",
              "      <td id=\"T_9a616_row0_col28\" class=\"data row0 col28\" >0</td>\n",
              "      <td id=\"T_9a616_row0_col29\" class=\"data row0 col29\" >0</td>\n",
              "      <td id=\"T_9a616_row0_col30\" class=\"data row0 col30\" >0</td>\n",
              "      <td id=\"T_9a616_row0_col31\" class=\"data row0 col31\" >0</td>\n",
              "      <td id=\"T_9a616_row0_col32\" class=\"data row0 col32\" >0</td>\n",
              "      <td id=\"T_9a616_row0_col33\" class=\"data row0 col33\" >0</td>\n",
              "      <td id=\"T_9a616_row0_col34\" class=\"data row0 col34\" >1</td>\n",
              "      <td id=\"T_9a616_row0_col35\" class=\"data row0 col35\" >1</td>\n",
              "      <td id=\"T_9a616_row0_col36\" class=\"data row0 col36\" >0</td>\n",
              "      <td id=\"T_9a616_row0_col37\" class=\"data row0 col37\" >0</td>\n",
              "      <td id=\"T_9a616_row0_col38\" class=\"data row0 col38\" >0</td>\n",
              "      <td id=\"T_9a616_row0_col39\" class=\"data row0 col39\" >1</td>\n",
              "      <td id=\"T_9a616_row0_col40\" class=\"data row0 col40\" >0</td>\n",
              "      <td id=\"T_9a616_row0_col41\" class=\"data row0 col41\" >0</td>\n",
              "      <td id=\"T_9a616_row0_col42\" class=\"data row0 col42\" >0</td>\n",
              "      <td id=\"T_9a616_row0_col43\" class=\"data row0 col43\" >0</td>\n",
              "      <td id=\"T_9a616_row0_col44\" class=\"data row0 col44\" >0</td>\n",
              "      <td id=\"T_9a616_row0_col45\" class=\"data row0 col45\" >0</td>\n",
              "      <td id=\"T_9a616_row0_col46\" class=\"data row0 col46\" >0</td>\n",
              "      <td id=\"T_9a616_row0_col47\" class=\"data row0 col47\" >0</td>\n",
              "      <td id=\"T_9a616_row0_col48\" class=\"data row0 col48\" >1</td>\n",
              "      <td id=\"T_9a616_row0_col49\" class=\"data row0 col49\" >0</td>\n",
              "    </tr>\n",
              "    <tr>\n",
              "      <td id=\"T_9a616_row1_col0\" class=\"data row1 col0\" >1</td>\n",
              "      <td id=\"T_9a616_row1_col1\" class=\"data row1 col1\" >108,590</td>\n",
              "      <td id=\"T_9a616_row1_col2\" class=\"data row1 col2\" >1</td>\n",
              "      <td id=\"T_9a616_row1_col3\" class=\"data row1 col3\" >0</td>\n",
              "      <td id=\"T_9a616_row1_col4\" class=\"data row1 col4\" >0</td>\n",
              "      <td id=\"T_9a616_row1_col5\" class=\"data row1 col5\" >0</td>\n",
              "      <td id=\"T_9a616_row1_col6\" class=\"data row1 col6\" >1</td>\n",
              "      <td id=\"T_9a616_row1_col7\" class=\"data row1 col7\" >0</td>\n",
              "      <td id=\"T_9a616_row1_col8\" class=\"data row1 col8\" >0</td>\n",
              "      <td id=\"T_9a616_row1_col9\" class=\"data row1 col9\" >0</td>\n",
              "      <td id=\"T_9a616_row1_col10\" class=\"data row1 col10\" >0</td>\n",
              "      <td id=\"T_9a616_row1_col11\" class=\"data row1 col11\" >0</td>\n",
              "      <td id=\"T_9a616_row1_col12\" class=\"data row1 col12\" >0</td>\n",
              "      <td id=\"T_9a616_row1_col13\" class=\"data row1 col13\" >0</td>\n",
              "      <td id=\"T_9a616_row1_col14\" class=\"data row1 col14\" >1</td>\n",
              "      <td id=\"T_9a616_row1_col15\" class=\"data row1 col15\" >0</td>\n",
              "      <td id=\"T_9a616_row1_col16\" class=\"data row1 col16\" >0</td>\n",
              "      <td id=\"T_9a616_row1_col17\" class=\"data row1 col17\" >0</td>\n",
              "      <td id=\"T_9a616_row1_col18\" class=\"data row1 col18\" >0</td>\n",
              "      <td id=\"T_9a616_row1_col19\" class=\"data row1 col19\" >0</td>\n",
              "      <td id=\"T_9a616_row1_col20\" class=\"data row1 col20\" >0</td>\n",
              "      <td id=\"T_9a616_row1_col21\" class=\"data row1 col21\" >0</td>\n",
              "      <td id=\"T_9a616_row1_col22\" class=\"data row1 col22\" >1</td>\n",
              "      <td id=\"T_9a616_row1_col23\" class=\"data row1 col23\" >0</td>\n",
              "      <td id=\"T_9a616_row1_col24\" class=\"data row1 col24\" >0</td>\n",
              "      <td id=\"T_9a616_row1_col25\" class=\"data row1 col25\" >0</td>\n",
              "      <td id=\"T_9a616_row1_col26\" class=\"data row1 col26\" >0</td>\n",
              "      <td id=\"T_9a616_row1_col27\" class=\"data row1 col27\" >0</td>\n",
              "      <td id=\"T_9a616_row1_col28\" class=\"data row1 col28\" >0</td>\n",
              "      <td id=\"T_9a616_row1_col29\" class=\"data row1 col29\" >0</td>\n",
              "      <td id=\"T_9a616_row1_col30\" class=\"data row1 col30\" >0</td>\n",
              "      <td id=\"T_9a616_row1_col31\" class=\"data row1 col31\" >0</td>\n",
              "      <td id=\"T_9a616_row1_col32\" class=\"data row1 col32\" >0</td>\n",
              "      <td id=\"T_9a616_row1_col33\" class=\"data row1 col33\" >1</td>\n",
              "      <td id=\"T_9a616_row1_col34\" class=\"data row1 col34\" >0</td>\n",
              "      <td id=\"T_9a616_row1_col35\" class=\"data row1 col35\" >0</td>\n",
              "      <td id=\"T_9a616_row1_col36\" class=\"data row1 col36\" >1</td>\n",
              "      <td id=\"T_9a616_row1_col37\" class=\"data row1 col37\" >0</td>\n",
              "      <td id=\"T_9a616_row1_col38\" class=\"data row1 col38\" >0</td>\n",
              "      <td id=\"T_9a616_row1_col39\" class=\"data row1 col39\" >0</td>\n",
              "      <td id=\"T_9a616_row1_col40\" class=\"data row1 col40\" >1</td>\n",
              "      <td id=\"T_9a616_row1_col41\" class=\"data row1 col41\" >0</td>\n",
              "      <td id=\"T_9a616_row1_col42\" class=\"data row1 col42\" >0</td>\n",
              "      <td id=\"T_9a616_row1_col43\" class=\"data row1 col43\" >0</td>\n",
              "      <td id=\"T_9a616_row1_col44\" class=\"data row1 col44\" >0</td>\n",
              "      <td id=\"T_9a616_row1_col45\" class=\"data row1 col45\" >0</td>\n",
              "      <td id=\"T_9a616_row1_col46\" class=\"data row1 col46\" >0</td>\n",
              "      <td id=\"T_9a616_row1_col47\" class=\"data row1 col47\" >0</td>\n",
              "      <td id=\"T_9a616_row1_col48\" class=\"data row1 col48\" >1</td>\n",
              "      <td id=\"T_9a616_row1_col49\" class=\"data row1 col49\" >0</td>\n",
              "    </tr>\n",
              "    <tr>\n",
              "      <td id=\"T_9a616_row2_col0\" class=\"data row2 col0\" >1</td>\n",
              "      <td id=\"T_9a616_row2_col1\" class=\"data row2 col1\" >5,000</td>\n",
              "      <td id=\"T_9a616_row2_col2\" class=\"data row2 col2\" >0</td>\n",
              "      <td id=\"T_9a616_row2_col3\" class=\"data row2 col3\" >0</td>\n",
              "      <td id=\"T_9a616_row2_col4\" class=\"data row2 col4\" >0</td>\n",
              "      <td id=\"T_9a616_row2_col5\" class=\"data row2 col5\" >0</td>\n",
              "      <td id=\"T_9a616_row2_col6\" class=\"data row2 col6\" >0</td>\n",
              "      <td id=\"T_9a616_row2_col7\" class=\"data row2 col7\" >0</td>\n",
              "      <td id=\"T_9a616_row2_col8\" class=\"data row2 col8\" >1</td>\n",
              "      <td id=\"T_9a616_row2_col9\" class=\"data row2 col9\" >0</td>\n",
              "      <td id=\"T_9a616_row2_col10\" class=\"data row2 col10\" >0</td>\n",
              "      <td id=\"T_9a616_row2_col11\" class=\"data row2 col11\" >0</td>\n",
              "      <td id=\"T_9a616_row2_col12\" class=\"data row2 col12\" >1</td>\n",
              "      <td id=\"T_9a616_row2_col13\" class=\"data row2 col13\" >0</td>\n",
              "      <td id=\"T_9a616_row2_col14\" class=\"data row2 col14\" >0</td>\n",
              "      <td id=\"T_9a616_row2_col15\" class=\"data row2 col15\" >0</td>\n",
              "      <td id=\"T_9a616_row2_col16\" class=\"data row2 col16\" >0</td>\n",
              "      <td id=\"T_9a616_row2_col17\" class=\"data row2 col17\" >0</td>\n",
              "      <td id=\"T_9a616_row2_col18\" class=\"data row2 col18\" >0</td>\n",
              "      <td id=\"T_9a616_row2_col19\" class=\"data row2 col19\" >0</td>\n",
              "      <td id=\"T_9a616_row2_col20\" class=\"data row2 col20\" >0</td>\n",
              "      <td id=\"T_9a616_row2_col21\" class=\"data row2 col21\" >0</td>\n",
              "      <td id=\"T_9a616_row2_col22\" class=\"data row2 col22\" >0</td>\n",
              "      <td id=\"T_9a616_row2_col23\" class=\"data row2 col23\" >0</td>\n",
              "      <td id=\"T_9a616_row2_col24\" class=\"data row2 col24\" >0</td>\n",
              "      <td id=\"T_9a616_row2_col25\" class=\"data row2 col25\" >1</td>\n",
              "      <td id=\"T_9a616_row2_col26\" class=\"data row2 col26\" >0</td>\n",
              "      <td id=\"T_9a616_row2_col27\" class=\"data row2 col27\" >0</td>\n",
              "      <td id=\"T_9a616_row2_col28\" class=\"data row2 col28\" >0</td>\n",
              "      <td id=\"T_9a616_row2_col29\" class=\"data row2 col29\" >0</td>\n",
              "      <td id=\"T_9a616_row2_col30\" class=\"data row2 col30\" >0</td>\n",
              "      <td id=\"T_9a616_row2_col31\" class=\"data row2 col31\" >0</td>\n",
              "      <td id=\"T_9a616_row2_col32\" class=\"data row2 col32\" >0</td>\n",
              "      <td id=\"T_9a616_row2_col33\" class=\"data row2 col33\" >0</td>\n",
              "      <td id=\"T_9a616_row2_col34\" class=\"data row2 col34\" >1</td>\n",
              "      <td id=\"T_9a616_row2_col35\" class=\"data row2 col35\" >1</td>\n",
              "      <td id=\"T_9a616_row2_col36\" class=\"data row2 col36\" >0</td>\n",
              "      <td id=\"T_9a616_row2_col37\" class=\"data row2 col37\" >0</td>\n",
              "      <td id=\"T_9a616_row2_col38\" class=\"data row2 col38\" >0</td>\n",
              "      <td id=\"T_9a616_row2_col39\" class=\"data row2 col39\" >1</td>\n",
              "      <td id=\"T_9a616_row2_col40\" class=\"data row2 col40\" >0</td>\n",
              "      <td id=\"T_9a616_row2_col41\" class=\"data row2 col41\" >0</td>\n",
              "      <td id=\"T_9a616_row2_col42\" class=\"data row2 col42\" >0</td>\n",
              "      <td id=\"T_9a616_row2_col43\" class=\"data row2 col43\" >0</td>\n",
              "      <td id=\"T_9a616_row2_col44\" class=\"data row2 col44\" >0</td>\n",
              "      <td id=\"T_9a616_row2_col45\" class=\"data row2 col45\" >0</td>\n",
              "      <td id=\"T_9a616_row2_col46\" class=\"data row2 col46\" >0</td>\n",
              "      <td id=\"T_9a616_row2_col47\" class=\"data row2 col47\" >0</td>\n",
              "      <td id=\"T_9a616_row2_col48\" class=\"data row2 col48\" >1</td>\n",
              "      <td id=\"T_9a616_row2_col49\" class=\"data row2 col49\" >0</td>\n",
              "    </tr>\n",
              "    <tr>\n",
              "      <td id=\"T_9a616_row3_col0\" class=\"data row3 col0\" >1</td>\n",
              "      <td id=\"T_9a616_row3_col1\" class=\"data row3 col1\" >6,692</td>\n",
              "      <td id=\"T_9a616_row3_col2\" class=\"data row3 col2\" >1</td>\n",
              "      <td id=\"T_9a616_row3_col3\" class=\"data row3 col3\" >0</td>\n",
              "      <td id=\"T_9a616_row3_col4\" class=\"data row3 col4\" >0</td>\n",
              "      <td id=\"T_9a616_row3_col5\" class=\"data row3 col5\" >0</td>\n",
              "      <td id=\"T_9a616_row3_col6\" class=\"data row3 col6\" >1</td>\n",
              "      <td id=\"T_9a616_row3_col7\" class=\"data row3 col7\" >0</td>\n",
              "      <td id=\"T_9a616_row3_col8\" class=\"data row3 col8\" >0</td>\n",
              "      <td id=\"T_9a616_row3_col9\" class=\"data row3 col9\" >0</td>\n",
              "      <td id=\"T_9a616_row3_col10\" class=\"data row3 col10\" >0</td>\n",
              "      <td id=\"T_9a616_row3_col11\" class=\"data row3 col11\" >0</td>\n",
              "      <td id=\"T_9a616_row3_col12\" class=\"data row3 col12\" >1</td>\n",
              "      <td id=\"T_9a616_row3_col13\" class=\"data row3 col13\" >0</td>\n",
              "      <td id=\"T_9a616_row3_col14\" class=\"data row3 col14\" >0</td>\n",
              "      <td id=\"T_9a616_row3_col15\" class=\"data row3 col15\" >0</td>\n",
              "      <td id=\"T_9a616_row3_col16\" class=\"data row3 col16\" >0</td>\n",
              "      <td id=\"T_9a616_row3_col17\" class=\"data row3 col17\" >0</td>\n",
              "      <td id=\"T_9a616_row3_col18\" class=\"data row3 col18\" >0</td>\n",
              "      <td id=\"T_9a616_row3_col19\" class=\"data row3 col19\" >0</td>\n",
              "      <td id=\"T_9a616_row3_col20\" class=\"data row3 col20\" >0</td>\n",
              "      <td id=\"T_9a616_row3_col21\" class=\"data row3 col21\" >0</td>\n",
              "      <td id=\"T_9a616_row3_col22\" class=\"data row3 col22\" >1</td>\n",
              "      <td id=\"T_9a616_row3_col23\" class=\"data row3 col23\" >0</td>\n",
              "      <td id=\"T_9a616_row3_col24\" class=\"data row3 col24\" >0</td>\n",
              "      <td id=\"T_9a616_row3_col25\" class=\"data row3 col25\" >0</td>\n",
              "      <td id=\"T_9a616_row3_col26\" class=\"data row3 col26\" >0</td>\n",
              "      <td id=\"T_9a616_row3_col27\" class=\"data row3 col27\" >0</td>\n",
              "      <td id=\"T_9a616_row3_col28\" class=\"data row3 col28\" >0</td>\n",
              "      <td id=\"T_9a616_row3_col29\" class=\"data row3 col29\" >0</td>\n",
              "      <td id=\"T_9a616_row3_col30\" class=\"data row3 col30\" >0</td>\n",
              "      <td id=\"T_9a616_row3_col31\" class=\"data row3 col31\" >0</td>\n",
              "      <td id=\"T_9a616_row3_col32\" class=\"data row3 col32\" >0</td>\n",
              "      <td id=\"T_9a616_row3_col33\" class=\"data row3 col33\" >1</td>\n",
              "      <td id=\"T_9a616_row3_col34\" class=\"data row3 col34\" >0</td>\n",
              "      <td id=\"T_9a616_row3_col35\" class=\"data row3 col35\" >0</td>\n",
              "      <td id=\"T_9a616_row3_col36\" class=\"data row3 col36\" >0</td>\n",
              "      <td id=\"T_9a616_row3_col37\" class=\"data row3 col37\" >0</td>\n",
              "      <td id=\"T_9a616_row3_col38\" class=\"data row3 col38\" >1</td>\n",
              "      <td id=\"T_9a616_row3_col39\" class=\"data row3 col39\" >0</td>\n",
              "      <td id=\"T_9a616_row3_col40\" class=\"data row3 col40\" >0</td>\n",
              "      <td id=\"T_9a616_row3_col41\" class=\"data row3 col41\" >1</td>\n",
              "      <td id=\"T_9a616_row3_col42\" class=\"data row3 col42\" >0</td>\n",
              "      <td id=\"T_9a616_row3_col43\" class=\"data row3 col43\" >0</td>\n",
              "      <td id=\"T_9a616_row3_col44\" class=\"data row3 col44\" >0</td>\n",
              "      <td id=\"T_9a616_row3_col45\" class=\"data row3 col45\" >0</td>\n",
              "      <td id=\"T_9a616_row3_col46\" class=\"data row3 col46\" >0</td>\n",
              "      <td id=\"T_9a616_row3_col47\" class=\"data row3 col47\" >0</td>\n",
              "      <td id=\"T_9a616_row3_col48\" class=\"data row3 col48\" >1</td>\n",
              "      <td id=\"T_9a616_row3_col49\" class=\"data row3 col49\" >0</td>\n",
              "    </tr>\n",
              "    <tr>\n",
              "      <td id=\"T_9a616_row4_col0\" class=\"data row4 col0\" >1</td>\n",
              "      <td id=\"T_9a616_row4_col1\" class=\"data row4 col1\" >142,590</td>\n",
              "      <td id=\"T_9a616_row4_col2\" class=\"data row4 col2\" >1</td>\n",
              "      <td id=\"T_9a616_row4_col3\" class=\"data row4 col3\" >0</td>\n",
              "      <td id=\"T_9a616_row4_col4\" class=\"data row4 col4\" >0</td>\n",
              "      <td id=\"T_9a616_row4_col5\" class=\"data row4 col5\" >0</td>\n",
              "      <td id=\"T_9a616_row4_col6\" class=\"data row4 col6\" >1</td>\n",
              "      <td id=\"T_9a616_row4_col7\" class=\"data row4 col7\" >0</td>\n",
              "      <td id=\"T_9a616_row4_col8\" class=\"data row4 col8\" >0</td>\n",
              "      <td id=\"T_9a616_row4_col9\" class=\"data row4 col9\" >0</td>\n",
              "      <td id=\"T_9a616_row4_col10\" class=\"data row4 col10\" >0</td>\n",
              "      <td id=\"T_9a616_row4_col11\" class=\"data row4 col11\" >0</td>\n",
              "      <td id=\"T_9a616_row4_col12\" class=\"data row4 col12\" >0</td>\n",
              "      <td id=\"T_9a616_row4_col13\" class=\"data row4 col13\" >0</td>\n",
              "      <td id=\"T_9a616_row4_col14\" class=\"data row4 col14\" >1</td>\n",
              "      <td id=\"T_9a616_row4_col15\" class=\"data row4 col15\" >0</td>\n",
              "      <td id=\"T_9a616_row4_col16\" class=\"data row4 col16\" >0</td>\n",
              "      <td id=\"T_9a616_row4_col17\" class=\"data row4 col17\" >0</td>\n",
              "      <td id=\"T_9a616_row4_col18\" class=\"data row4 col18\" >1</td>\n",
              "      <td id=\"T_9a616_row4_col19\" class=\"data row4 col19\" >0</td>\n",
              "      <td id=\"T_9a616_row4_col20\" class=\"data row4 col20\" >0</td>\n",
              "      <td id=\"T_9a616_row4_col21\" class=\"data row4 col21\" >0</td>\n",
              "      <td id=\"T_9a616_row4_col22\" class=\"data row4 col22\" >0</td>\n",
              "      <td id=\"T_9a616_row4_col23\" class=\"data row4 col23\" >0</td>\n",
              "      <td id=\"T_9a616_row4_col24\" class=\"data row4 col24\" >0</td>\n",
              "      <td id=\"T_9a616_row4_col25\" class=\"data row4 col25\" >0</td>\n",
              "      <td id=\"T_9a616_row4_col26\" class=\"data row4 col26\" >0</td>\n",
              "      <td id=\"T_9a616_row4_col27\" class=\"data row4 col27\" >0</td>\n",
              "      <td id=\"T_9a616_row4_col28\" class=\"data row4 col28\" >0</td>\n",
              "      <td id=\"T_9a616_row4_col29\" class=\"data row4 col29\" >0</td>\n",
              "      <td id=\"T_9a616_row4_col30\" class=\"data row4 col30\" >0</td>\n",
              "      <td id=\"T_9a616_row4_col31\" class=\"data row4 col31\" >1</td>\n",
              "      <td id=\"T_9a616_row4_col32\" class=\"data row4 col32\" >0</td>\n",
              "      <td id=\"T_9a616_row4_col33\" class=\"data row4 col33\" >0</td>\n",
              "      <td id=\"T_9a616_row4_col34\" class=\"data row4 col34\" >0</td>\n",
              "      <td id=\"T_9a616_row4_col35\" class=\"data row4 col35\" >0</td>\n",
              "      <td id=\"T_9a616_row4_col36\" class=\"data row4 col36\" >0</td>\n",
              "      <td id=\"T_9a616_row4_col37\" class=\"data row4 col37\" >0</td>\n",
              "      <td id=\"T_9a616_row4_col38\" class=\"data row4 col38\" >1</td>\n",
              "      <td id=\"T_9a616_row4_col39\" class=\"data row4 col39\" >0</td>\n",
              "      <td id=\"T_9a616_row4_col40\" class=\"data row4 col40\" >0</td>\n",
              "      <td id=\"T_9a616_row4_col41\" class=\"data row4 col41\" >0</td>\n",
              "      <td id=\"T_9a616_row4_col42\" class=\"data row4 col42\" >1</td>\n",
              "      <td id=\"T_9a616_row4_col43\" class=\"data row4 col43\" >0</td>\n",
              "      <td id=\"T_9a616_row4_col44\" class=\"data row4 col44\" >0</td>\n",
              "      <td id=\"T_9a616_row4_col45\" class=\"data row4 col45\" >0</td>\n",
              "      <td id=\"T_9a616_row4_col46\" class=\"data row4 col46\" >0</td>\n",
              "      <td id=\"T_9a616_row4_col47\" class=\"data row4 col47\" >0</td>\n",
              "      <td id=\"T_9a616_row4_col48\" class=\"data row4 col48\" >1</td>\n",
              "      <td id=\"T_9a616_row4_col49\" class=\"data row4 col49\" >0</td>\n",
              "    </tr>\n",
              "    <tr>\n",
              "      <td id=\"T_9a616_row5_col0\" class=\"data row5 col0\" >1</td>\n",
              "      <td id=\"T_9a616_row5_col1\" class=\"data row5 col1\" >5,000</td>\n",
              "      <td id=\"T_9a616_row5_col2\" class=\"data row5 col2\" >1</td>\n",
              "      <td id=\"T_9a616_row5_col3\" class=\"data row5 col3\" >0</td>\n",
              "      <td id=\"T_9a616_row5_col4\" class=\"data row5 col4\" >0</td>\n",
              "      <td id=\"T_9a616_row5_col5\" class=\"data row5 col5\" >0</td>\n",
              "      <td id=\"T_9a616_row5_col6\" class=\"data row5 col6\" >1</td>\n",
              "      <td id=\"T_9a616_row5_col7\" class=\"data row5 col7\" >0</td>\n",
              "      <td id=\"T_9a616_row5_col8\" class=\"data row5 col8\" >0</td>\n",
              "      <td id=\"T_9a616_row5_col9\" class=\"data row5 col9\" >0</td>\n",
              "      <td id=\"T_9a616_row5_col10\" class=\"data row5 col10\" >0</td>\n",
              "      <td id=\"T_9a616_row5_col11\" class=\"data row5 col11\" >0</td>\n",
              "      <td id=\"T_9a616_row5_col12\" class=\"data row5 col12\" >0</td>\n",
              "      <td id=\"T_9a616_row5_col13\" class=\"data row5 col13\" >0</td>\n",
              "      <td id=\"T_9a616_row5_col14\" class=\"data row5 col14\" >1</td>\n",
              "      <td id=\"T_9a616_row5_col15\" class=\"data row5 col15\" >0</td>\n",
              "      <td id=\"T_9a616_row5_col16\" class=\"data row5 col16\" >0</td>\n",
              "      <td id=\"T_9a616_row5_col17\" class=\"data row5 col17\" >0</td>\n",
              "      <td id=\"T_9a616_row5_col18\" class=\"data row5 col18\" >0</td>\n",
              "      <td id=\"T_9a616_row5_col19\" class=\"data row5 col19\" >1</td>\n",
              "      <td id=\"T_9a616_row5_col20\" class=\"data row5 col20\" >0</td>\n",
              "      <td id=\"T_9a616_row5_col21\" class=\"data row5 col21\" >0</td>\n",
              "      <td id=\"T_9a616_row5_col22\" class=\"data row5 col22\" >0</td>\n",
              "      <td id=\"T_9a616_row5_col23\" class=\"data row5 col23\" >0</td>\n",
              "      <td id=\"T_9a616_row5_col24\" class=\"data row5 col24\" >0</td>\n",
              "      <td id=\"T_9a616_row5_col25\" class=\"data row5 col25\" >0</td>\n",
              "      <td id=\"T_9a616_row5_col26\" class=\"data row5 col26\" >0</td>\n",
              "      <td id=\"T_9a616_row5_col27\" class=\"data row5 col27\" >0</td>\n",
              "      <td id=\"T_9a616_row5_col28\" class=\"data row5 col28\" >0</td>\n",
              "      <td id=\"T_9a616_row5_col29\" class=\"data row5 col29\" >0</td>\n",
              "      <td id=\"T_9a616_row5_col30\" class=\"data row5 col30\" >0</td>\n",
              "      <td id=\"T_9a616_row5_col31\" class=\"data row5 col31\" >0</td>\n",
              "      <td id=\"T_9a616_row5_col32\" class=\"data row5 col32\" >0</td>\n",
              "      <td id=\"T_9a616_row5_col33\" class=\"data row5 col33\" >1</td>\n",
              "      <td id=\"T_9a616_row5_col34\" class=\"data row5 col34\" >0</td>\n",
              "      <td id=\"T_9a616_row5_col35\" class=\"data row5 col35\" >0</td>\n",
              "      <td id=\"T_9a616_row5_col36\" class=\"data row5 col36\" >0</td>\n",
              "      <td id=\"T_9a616_row5_col37\" class=\"data row5 col37\" >0</td>\n",
              "      <td id=\"T_9a616_row5_col38\" class=\"data row5 col38\" >1</td>\n",
              "      <td id=\"T_9a616_row5_col39\" class=\"data row5 col39\" >1</td>\n",
              "      <td id=\"T_9a616_row5_col40\" class=\"data row5 col40\" >0</td>\n",
              "      <td id=\"T_9a616_row5_col41\" class=\"data row5 col41\" >0</td>\n",
              "      <td id=\"T_9a616_row5_col42\" class=\"data row5 col42\" >0</td>\n",
              "      <td id=\"T_9a616_row5_col43\" class=\"data row5 col43\" >0</td>\n",
              "      <td id=\"T_9a616_row5_col44\" class=\"data row5 col44\" >0</td>\n",
              "      <td id=\"T_9a616_row5_col45\" class=\"data row5 col45\" >0</td>\n",
              "      <td id=\"T_9a616_row5_col46\" class=\"data row5 col46\" >0</td>\n",
              "      <td id=\"T_9a616_row5_col47\" class=\"data row5 col47\" >0</td>\n",
              "      <td id=\"T_9a616_row5_col48\" class=\"data row5 col48\" >1</td>\n",
              "      <td id=\"T_9a616_row5_col49\" class=\"data row5 col49\" >0</td>\n",
              "    </tr>\n",
              "    <tr>\n",
              "      <td id=\"T_9a616_row6_col0\" class=\"data row6 col0\" >1</td>\n",
              "      <td id=\"T_9a616_row6_col1\" class=\"data row6 col1\" >31,452</td>\n",
              "      <td id=\"T_9a616_row6_col2\" class=\"data row6 col2\" >1</td>\n",
              "      <td id=\"T_9a616_row6_col3\" class=\"data row6 col3\" >0</td>\n",
              "      <td id=\"T_9a616_row6_col4\" class=\"data row6 col4\" >0</td>\n",
              "      <td id=\"T_9a616_row6_col5\" class=\"data row6 col5\" >0</td>\n",
              "      <td id=\"T_9a616_row6_col6\" class=\"data row6 col6\" >1</td>\n",
              "      <td id=\"T_9a616_row6_col7\" class=\"data row6 col7\" >0</td>\n",
              "      <td id=\"T_9a616_row6_col8\" class=\"data row6 col8\" >0</td>\n",
              "      <td id=\"T_9a616_row6_col9\" class=\"data row6 col9\" >0</td>\n",
              "      <td id=\"T_9a616_row6_col10\" class=\"data row6 col10\" >0</td>\n",
              "      <td id=\"T_9a616_row6_col11\" class=\"data row6 col11\" >0</td>\n",
              "      <td id=\"T_9a616_row6_col12\" class=\"data row6 col12\" >0</td>\n",
              "      <td id=\"T_9a616_row6_col13\" class=\"data row6 col13\" >0</td>\n",
              "      <td id=\"T_9a616_row6_col14\" class=\"data row6 col14\" >1</td>\n",
              "      <td id=\"T_9a616_row6_col15\" class=\"data row6 col15\" >0</td>\n",
              "      <td id=\"T_9a616_row6_col16\" class=\"data row6 col16\" >0</td>\n",
              "      <td id=\"T_9a616_row6_col17\" class=\"data row6 col17\" >0</td>\n",
              "      <td id=\"T_9a616_row6_col18\" class=\"data row6 col18\" >1</td>\n",
              "      <td id=\"T_9a616_row6_col19\" class=\"data row6 col19\" >0</td>\n",
              "      <td id=\"T_9a616_row6_col20\" class=\"data row6 col20\" >0</td>\n",
              "      <td id=\"T_9a616_row6_col21\" class=\"data row6 col21\" >0</td>\n",
              "      <td id=\"T_9a616_row6_col22\" class=\"data row6 col22\" >0</td>\n",
              "      <td id=\"T_9a616_row6_col23\" class=\"data row6 col23\" >0</td>\n",
              "      <td id=\"T_9a616_row6_col24\" class=\"data row6 col24\" >0</td>\n",
              "      <td id=\"T_9a616_row6_col25\" class=\"data row6 col25\" >0</td>\n",
              "      <td id=\"T_9a616_row6_col26\" class=\"data row6 col26\" >0</td>\n",
              "      <td id=\"T_9a616_row6_col27\" class=\"data row6 col27\" >0</td>\n",
              "      <td id=\"T_9a616_row6_col28\" class=\"data row6 col28\" >0</td>\n",
              "      <td id=\"T_9a616_row6_col29\" class=\"data row6 col29\" >0</td>\n",
              "      <td id=\"T_9a616_row6_col30\" class=\"data row6 col30\" >0</td>\n",
              "      <td id=\"T_9a616_row6_col31\" class=\"data row6 col31\" >0</td>\n",
              "      <td id=\"T_9a616_row6_col32\" class=\"data row6 col32\" >0</td>\n",
              "      <td id=\"T_9a616_row6_col33\" class=\"data row6 col33\" >1</td>\n",
              "      <td id=\"T_9a616_row6_col34\" class=\"data row6 col34\" >0</td>\n",
              "      <td id=\"T_9a616_row6_col35\" class=\"data row6 col35\" >0</td>\n",
              "      <td id=\"T_9a616_row6_col36\" class=\"data row6 col36\" >0</td>\n",
              "      <td id=\"T_9a616_row6_col37\" class=\"data row6 col37\" >0</td>\n",
              "      <td id=\"T_9a616_row6_col38\" class=\"data row6 col38\" >1</td>\n",
              "      <td id=\"T_9a616_row6_col39\" class=\"data row6 col39\" >0</td>\n",
              "      <td id=\"T_9a616_row6_col40\" class=\"data row6 col40\" >0</td>\n",
              "      <td id=\"T_9a616_row6_col41\" class=\"data row6 col41\" >0</td>\n",
              "      <td id=\"T_9a616_row6_col42\" class=\"data row6 col42\" >1</td>\n",
              "      <td id=\"T_9a616_row6_col43\" class=\"data row6 col43\" >0</td>\n",
              "      <td id=\"T_9a616_row6_col44\" class=\"data row6 col44\" >0</td>\n",
              "      <td id=\"T_9a616_row6_col45\" class=\"data row6 col45\" >0</td>\n",
              "      <td id=\"T_9a616_row6_col46\" class=\"data row6 col46\" >0</td>\n",
              "      <td id=\"T_9a616_row6_col47\" class=\"data row6 col47\" >0</td>\n",
              "      <td id=\"T_9a616_row6_col48\" class=\"data row6 col48\" >1</td>\n",
              "      <td id=\"T_9a616_row6_col49\" class=\"data row6 col49\" >0</td>\n",
              "    </tr>\n",
              "    <tr>\n",
              "      <td id=\"T_9a616_row7_col0\" class=\"data row7 col0\" >1</td>\n",
              "      <td id=\"T_9a616_row7_col1\" class=\"data row7 col1\" >7,508,025</td>\n",
              "      <td id=\"T_9a616_row7_col2\" class=\"data row7 col2\" >1</td>\n",
              "      <td id=\"T_9a616_row7_col3\" class=\"data row7 col3\" >0</td>\n",
              "      <td id=\"T_9a616_row7_col4\" class=\"data row7 col4\" >0</td>\n",
              "      <td id=\"T_9a616_row7_col5\" class=\"data row7 col5\" >0</td>\n",
              "      <td id=\"T_9a616_row7_col6\" class=\"data row7 col6\" >1</td>\n",
              "      <td id=\"T_9a616_row7_col7\" class=\"data row7 col7\" >0</td>\n",
              "      <td id=\"T_9a616_row7_col8\" class=\"data row7 col8\" >0</td>\n",
              "      <td id=\"T_9a616_row7_col9\" class=\"data row7 col9\" >0</td>\n",
              "      <td id=\"T_9a616_row7_col10\" class=\"data row7 col10\" >0</td>\n",
              "      <td id=\"T_9a616_row7_col11\" class=\"data row7 col11\" >0</td>\n",
              "      <td id=\"T_9a616_row7_col12\" class=\"data row7 col12\" >0</td>\n",
              "      <td id=\"T_9a616_row7_col13\" class=\"data row7 col13\" >0</td>\n",
              "      <td id=\"T_9a616_row7_col14\" class=\"data row7 col14\" >1</td>\n",
              "      <td id=\"T_9a616_row7_col15\" class=\"data row7 col15\" >0</td>\n",
              "      <td id=\"T_9a616_row7_col16\" class=\"data row7 col16\" >0</td>\n",
              "      <td id=\"T_9a616_row7_col17\" class=\"data row7 col17\" >0</td>\n",
              "      <td id=\"T_9a616_row7_col18\" class=\"data row7 col18\" >0</td>\n",
              "      <td id=\"T_9a616_row7_col19\" class=\"data row7 col19\" >0</td>\n",
              "      <td id=\"T_9a616_row7_col20\" class=\"data row7 col20\" >0</td>\n",
              "      <td id=\"T_9a616_row7_col21\" class=\"data row7 col21\" >0</td>\n",
              "      <td id=\"T_9a616_row7_col22\" class=\"data row7 col22\" >1</td>\n",
              "      <td id=\"T_9a616_row7_col23\" class=\"data row7 col23\" >0</td>\n",
              "      <td id=\"T_9a616_row7_col24\" class=\"data row7 col24\" >0</td>\n",
              "      <td id=\"T_9a616_row7_col25\" class=\"data row7 col25\" >0</td>\n",
              "      <td id=\"T_9a616_row7_col26\" class=\"data row7 col26\" >0</td>\n",
              "      <td id=\"T_9a616_row7_col27\" class=\"data row7 col27\" >0</td>\n",
              "      <td id=\"T_9a616_row7_col28\" class=\"data row7 col28\" >0</td>\n",
              "      <td id=\"T_9a616_row7_col29\" class=\"data row7 col29\" >0</td>\n",
              "      <td id=\"T_9a616_row7_col30\" class=\"data row7 col30\" >0</td>\n",
              "      <td id=\"T_9a616_row7_col31\" class=\"data row7 col31\" >0</td>\n",
              "      <td id=\"T_9a616_row7_col32\" class=\"data row7 col32\" >0</td>\n",
              "      <td id=\"T_9a616_row7_col33\" class=\"data row7 col33\" >1</td>\n",
              "      <td id=\"T_9a616_row7_col34\" class=\"data row7 col34\" >0</td>\n",
              "      <td id=\"T_9a616_row7_col35\" class=\"data row7 col35\" >0</td>\n",
              "      <td id=\"T_9a616_row7_col36\" class=\"data row7 col36\" >0</td>\n",
              "      <td id=\"T_9a616_row7_col37\" class=\"data row7 col37\" >0</td>\n",
              "      <td id=\"T_9a616_row7_col38\" class=\"data row7 col38\" >1</td>\n",
              "      <td id=\"T_9a616_row7_col39\" class=\"data row7 col39\" >0</td>\n",
              "      <td id=\"T_9a616_row7_col40\" class=\"data row7 col40\" >0</td>\n",
              "      <td id=\"T_9a616_row7_col41\" class=\"data row7 col41\" >0</td>\n",
              "      <td id=\"T_9a616_row7_col42\" class=\"data row7 col42\" >0</td>\n",
              "      <td id=\"T_9a616_row7_col43\" class=\"data row7 col43\" >1</td>\n",
              "      <td id=\"T_9a616_row7_col44\" class=\"data row7 col44\" >0</td>\n",
              "      <td id=\"T_9a616_row7_col45\" class=\"data row7 col45\" >0</td>\n",
              "      <td id=\"T_9a616_row7_col46\" class=\"data row7 col46\" >0</td>\n",
              "      <td id=\"T_9a616_row7_col47\" class=\"data row7 col47\" >0</td>\n",
              "      <td id=\"T_9a616_row7_col48\" class=\"data row7 col48\" >1</td>\n",
              "      <td id=\"T_9a616_row7_col49\" class=\"data row7 col49\" >0</td>\n",
              "    </tr>\n",
              "    <tr>\n",
              "      <td id=\"T_9a616_row8_col0\" class=\"data row8 col0\" >1</td>\n",
              "      <td id=\"T_9a616_row8_col1\" class=\"data row8 col1\" >94,389</td>\n",
              "      <td id=\"T_9a616_row8_col2\" class=\"data row8 col2\" >1</td>\n",
              "      <td id=\"T_9a616_row8_col3\" class=\"data row8 col3\" >0</td>\n",
              "      <td id=\"T_9a616_row8_col4\" class=\"data row8 col4\" >0</td>\n",
              "      <td id=\"T_9a616_row8_col5\" class=\"data row8 col5\" >0</td>\n",
              "      <td id=\"T_9a616_row8_col6\" class=\"data row8 col6\" >0</td>\n",
              "      <td id=\"T_9a616_row8_col7\" class=\"data row8 col7\" >0</td>\n",
              "      <td id=\"T_9a616_row8_col8\" class=\"data row8 col8\" >0</td>\n",
              "      <td id=\"T_9a616_row8_col9\" class=\"data row8 col9\" >0</td>\n",
              "      <td id=\"T_9a616_row8_col10\" class=\"data row8 col10\" >1</td>\n",
              "      <td id=\"T_9a616_row8_col11\" class=\"data row8 col11\" >0</td>\n",
              "      <td id=\"T_9a616_row8_col12\" class=\"data row8 col12\" >0</td>\n",
              "      <td id=\"T_9a616_row8_col13\" class=\"data row8 col13\" >0</td>\n",
              "      <td id=\"T_9a616_row8_col14\" class=\"data row8 col14\" >1</td>\n",
              "      <td id=\"T_9a616_row8_col15\" class=\"data row8 col15\" >0</td>\n",
              "      <td id=\"T_9a616_row8_col16\" class=\"data row8 col16\" >0</td>\n",
              "      <td id=\"T_9a616_row8_col17\" class=\"data row8 col17\" >0</td>\n",
              "      <td id=\"T_9a616_row8_col18\" class=\"data row8 col18\" >1</td>\n",
              "      <td id=\"T_9a616_row8_col19\" class=\"data row8 col19\" >0</td>\n",
              "      <td id=\"T_9a616_row8_col20\" class=\"data row8 col20\" >0</td>\n",
              "      <td id=\"T_9a616_row8_col21\" class=\"data row8 col21\" >0</td>\n",
              "      <td id=\"T_9a616_row8_col22\" class=\"data row8 col22\" >0</td>\n",
              "      <td id=\"T_9a616_row8_col23\" class=\"data row8 col23\" >0</td>\n",
              "      <td id=\"T_9a616_row8_col24\" class=\"data row8 col24\" >0</td>\n",
              "      <td id=\"T_9a616_row8_col25\" class=\"data row8 col25\" >0</td>\n",
              "      <td id=\"T_9a616_row8_col26\" class=\"data row8 col26\" >0</td>\n",
              "      <td id=\"T_9a616_row8_col27\" class=\"data row8 col27\" >0</td>\n",
              "      <td id=\"T_9a616_row8_col28\" class=\"data row8 col28\" >0</td>\n",
              "      <td id=\"T_9a616_row8_col29\" class=\"data row8 col29\" >0</td>\n",
              "      <td id=\"T_9a616_row8_col30\" class=\"data row8 col30\" >0</td>\n",
              "      <td id=\"T_9a616_row8_col31\" class=\"data row8 col31\" >0</td>\n",
              "      <td id=\"T_9a616_row8_col32\" class=\"data row8 col32\" >0</td>\n",
              "      <td id=\"T_9a616_row8_col33\" class=\"data row8 col33\" >0</td>\n",
              "      <td id=\"T_9a616_row8_col34\" class=\"data row8 col34\" >1</td>\n",
              "      <td id=\"T_9a616_row8_col35\" class=\"data row8 col35\" >0</td>\n",
              "      <td id=\"T_9a616_row8_col36\" class=\"data row8 col36\" >0</td>\n",
              "      <td id=\"T_9a616_row8_col37\" class=\"data row8 col37\" >0</td>\n",
              "      <td id=\"T_9a616_row8_col38\" class=\"data row8 col38\" >1</td>\n",
              "      <td id=\"T_9a616_row8_col39\" class=\"data row8 col39\" >0</td>\n",
              "      <td id=\"T_9a616_row8_col40\" class=\"data row8 col40\" >1</td>\n",
              "      <td id=\"T_9a616_row8_col41\" class=\"data row8 col41\" >0</td>\n",
              "      <td id=\"T_9a616_row8_col42\" class=\"data row8 col42\" >0</td>\n",
              "      <td id=\"T_9a616_row8_col43\" class=\"data row8 col43\" >0</td>\n",
              "      <td id=\"T_9a616_row8_col44\" class=\"data row8 col44\" >0</td>\n",
              "      <td id=\"T_9a616_row8_col45\" class=\"data row8 col45\" >0</td>\n",
              "      <td id=\"T_9a616_row8_col46\" class=\"data row8 col46\" >0</td>\n",
              "      <td id=\"T_9a616_row8_col47\" class=\"data row8 col47\" >0</td>\n",
              "      <td id=\"T_9a616_row8_col48\" class=\"data row8 col48\" >1</td>\n",
              "      <td id=\"T_9a616_row8_col49\" class=\"data row8 col49\" >0</td>\n",
              "    </tr>\n",
              "    <tr>\n",
              "      <td id=\"T_9a616_row9_col0\" class=\"data row9 col0\" >1</td>\n",
              "      <td id=\"T_9a616_row9_col1\" class=\"data row9 col1\" >5,000</td>\n",
              "      <td id=\"T_9a616_row9_col2\" class=\"data row9 col2\" >0</td>\n",
              "      <td id=\"T_9a616_row9_col3\" class=\"data row9 col3\" >0</td>\n",
              "      <td id=\"T_9a616_row9_col4\" class=\"data row9 col4\" >0</td>\n",
              "      <td id=\"T_9a616_row9_col5\" class=\"data row9 col5\" >0</td>\n",
              "      <td id=\"T_9a616_row9_col6\" class=\"data row9 col6\" >0</td>\n",
              "      <td id=\"T_9a616_row9_col7\" class=\"data row9 col7\" >0</td>\n",
              "      <td id=\"T_9a616_row9_col8\" class=\"data row9 col8\" >1</td>\n",
              "      <td id=\"T_9a616_row9_col9\" class=\"data row9 col9\" >0</td>\n",
              "      <td id=\"T_9a616_row9_col10\" class=\"data row9 col10\" >0</td>\n",
              "      <td id=\"T_9a616_row9_col11\" class=\"data row9 col11\" >0</td>\n",
              "      <td id=\"T_9a616_row9_col12\" class=\"data row9 col12\" >1</td>\n",
              "      <td id=\"T_9a616_row9_col13\" class=\"data row9 col13\" >0</td>\n",
              "      <td id=\"T_9a616_row9_col14\" class=\"data row9 col14\" >0</td>\n",
              "      <td id=\"T_9a616_row9_col15\" class=\"data row9 col15\" >0</td>\n",
              "      <td id=\"T_9a616_row9_col16\" class=\"data row9 col16\" >0</td>\n",
              "      <td id=\"T_9a616_row9_col17\" class=\"data row9 col17\" >0</td>\n",
              "      <td id=\"T_9a616_row9_col18\" class=\"data row9 col18\" >0</td>\n",
              "      <td id=\"T_9a616_row9_col19\" class=\"data row9 col19\" >0</td>\n",
              "      <td id=\"T_9a616_row9_col20\" class=\"data row9 col20\" >0</td>\n",
              "      <td id=\"T_9a616_row9_col21\" class=\"data row9 col21\" >0</td>\n",
              "      <td id=\"T_9a616_row9_col22\" class=\"data row9 col22\" >0</td>\n",
              "      <td id=\"T_9a616_row9_col23\" class=\"data row9 col23\" >0</td>\n",
              "      <td id=\"T_9a616_row9_col24\" class=\"data row9 col24\" >0</td>\n",
              "      <td id=\"T_9a616_row9_col25\" class=\"data row9 col25\" >1</td>\n",
              "      <td id=\"T_9a616_row9_col26\" class=\"data row9 col26\" >0</td>\n",
              "      <td id=\"T_9a616_row9_col27\" class=\"data row9 col27\" >0</td>\n",
              "      <td id=\"T_9a616_row9_col28\" class=\"data row9 col28\" >0</td>\n",
              "      <td id=\"T_9a616_row9_col29\" class=\"data row9 col29\" >0</td>\n",
              "      <td id=\"T_9a616_row9_col30\" class=\"data row9 col30\" >0</td>\n",
              "      <td id=\"T_9a616_row9_col31\" class=\"data row9 col31\" >0</td>\n",
              "      <td id=\"T_9a616_row9_col32\" class=\"data row9 col32\" >0</td>\n",
              "      <td id=\"T_9a616_row9_col33\" class=\"data row9 col33\" >0</td>\n",
              "      <td id=\"T_9a616_row9_col34\" class=\"data row9 col34\" >1</td>\n",
              "      <td id=\"T_9a616_row9_col35\" class=\"data row9 col35\" >1</td>\n",
              "      <td id=\"T_9a616_row9_col36\" class=\"data row9 col36\" >0</td>\n",
              "      <td id=\"T_9a616_row9_col37\" class=\"data row9 col37\" >0</td>\n",
              "      <td id=\"T_9a616_row9_col38\" class=\"data row9 col38\" >0</td>\n",
              "      <td id=\"T_9a616_row9_col39\" class=\"data row9 col39\" >1</td>\n",
              "      <td id=\"T_9a616_row9_col40\" class=\"data row9 col40\" >0</td>\n",
              "      <td id=\"T_9a616_row9_col41\" class=\"data row9 col41\" >0</td>\n",
              "      <td id=\"T_9a616_row9_col42\" class=\"data row9 col42\" >0</td>\n",
              "      <td id=\"T_9a616_row9_col43\" class=\"data row9 col43\" >0</td>\n",
              "      <td id=\"T_9a616_row9_col44\" class=\"data row9 col44\" >0</td>\n",
              "      <td id=\"T_9a616_row9_col45\" class=\"data row9 col45\" >0</td>\n",
              "      <td id=\"T_9a616_row9_col46\" class=\"data row9 col46\" >0</td>\n",
              "      <td id=\"T_9a616_row9_col47\" class=\"data row9 col47\" >0</td>\n",
              "      <td id=\"T_9a616_row9_col48\" class=\"data row9 col48\" >1</td>\n",
              "      <td id=\"T_9a616_row9_col49\" class=\"data row9 col49\" >0</td>\n",
              "    </tr>\n",
              "    <tr>\n",
              "      <td id=\"T_9a616_row10_col0\" class=\"data row10 col0\" >1</td>\n",
              "      <td id=\"T_9a616_row10_col1\" class=\"data row10 col1\" >69,656</td>\n",
              "      <td id=\"T_9a616_row10_col2\" class=\"data row10 col2\" >0</td>\n",
              "      <td id=\"T_9a616_row10_col3\" class=\"data row10 col3\" >0</td>\n",
              "      <td id=\"T_9a616_row10_col4\" class=\"data row10 col4\" >0</td>\n",
              "      <td id=\"T_9a616_row10_col5\" class=\"data row10 col5\" >0</td>\n",
              "      <td id=\"T_9a616_row10_col6\" class=\"data row10 col6\" >1</td>\n",
              "      <td id=\"T_9a616_row10_col7\" class=\"data row10 col7\" >0</td>\n",
              "      <td id=\"T_9a616_row10_col8\" class=\"data row10 col8\" >0</td>\n",
              "      <td id=\"T_9a616_row10_col9\" class=\"data row10 col9\" >0</td>\n",
              "      <td id=\"T_9a616_row10_col10\" class=\"data row10 col10\" >0</td>\n",
              "      <td id=\"T_9a616_row10_col11\" class=\"data row10 col11\" >0</td>\n",
              "      <td id=\"T_9a616_row10_col12\" class=\"data row10 col12\" >0</td>\n",
              "      <td id=\"T_9a616_row10_col13\" class=\"data row10 col13\" >0</td>\n",
              "      <td id=\"T_9a616_row10_col14\" class=\"data row10 col14\" >1</td>\n",
              "      <td id=\"T_9a616_row10_col15\" class=\"data row10 col15\" >0</td>\n",
              "      <td id=\"T_9a616_row10_col16\" class=\"data row10 col16\" >0</td>\n",
              "      <td id=\"T_9a616_row10_col17\" class=\"data row10 col17\" >0</td>\n",
              "      <td id=\"T_9a616_row10_col18\" class=\"data row10 col18\" >0</td>\n",
              "      <td id=\"T_9a616_row10_col19\" class=\"data row10 col19\" >1</td>\n",
              "      <td id=\"T_9a616_row10_col20\" class=\"data row10 col20\" >0</td>\n",
              "      <td id=\"T_9a616_row10_col21\" class=\"data row10 col21\" >0</td>\n",
              "      <td id=\"T_9a616_row10_col22\" class=\"data row10 col22\" >0</td>\n",
              "      <td id=\"T_9a616_row10_col23\" class=\"data row10 col23\" >0</td>\n",
              "      <td id=\"T_9a616_row10_col24\" class=\"data row10 col24\" >0</td>\n",
              "      <td id=\"T_9a616_row10_col25\" class=\"data row10 col25\" >0</td>\n",
              "      <td id=\"T_9a616_row10_col26\" class=\"data row10 col26\" >0</td>\n",
              "      <td id=\"T_9a616_row10_col27\" class=\"data row10 col27\" >0</td>\n",
              "      <td id=\"T_9a616_row10_col28\" class=\"data row10 col28\" >0</td>\n",
              "      <td id=\"T_9a616_row10_col29\" class=\"data row10 col29\" >0</td>\n",
              "      <td id=\"T_9a616_row10_col30\" class=\"data row10 col30\" >0</td>\n",
              "      <td id=\"T_9a616_row10_col31\" class=\"data row10 col31\" >0</td>\n",
              "      <td id=\"T_9a616_row10_col32\" class=\"data row10 col32\" >0</td>\n",
              "      <td id=\"T_9a616_row10_col33\" class=\"data row10 col33\" >1</td>\n",
              "      <td id=\"T_9a616_row10_col34\" class=\"data row10 col34\" >0</td>\n",
              "      <td id=\"T_9a616_row10_col35\" class=\"data row10 col35\" >0</td>\n",
              "      <td id=\"T_9a616_row10_col36\" class=\"data row10 col36\" >0</td>\n",
              "      <td id=\"T_9a616_row10_col37\" class=\"data row10 col37\" >0</td>\n",
              "      <td id=\"T_9a616_row10_col38\" class=\"data row10 col38\" >1</td>\n",
              "      <td id=\"T_9a616_row10_col39\" class=\"data row10 col39\" >0</td>\n",
              "      <td id=\"T_9a616_row10_col40\" class=\"data row10 col40\" >0</td>\n",
              "      <td id=\"T_9a616_row10_col41\" class=\"data row10 col41\" >0</td>\n",
              "      <td id=\"T_9a616_row10_col42\" class=\"data row10 col42\" >0</td>\n",
              "      <td id=\"T_9a616_row10_col43\" class=\"data row10 col43\" >0</td>\n",
              "      <td id=\"T_9a616_row10_col44\" class=\"data row10 col44\" >0</td>\n",
              "      <td id=\"T_9a616_row10_col45\" class=\"data row10 col45\" >1</td>\n",
              "      <td id=\"T_9a616_row10_col46\" class=\"data row10 col46\" >0</td>\n",
              "      <td id=\"T_9a616_row10_col47\" class=\"data row10 col47\" >0</td>\n",
              "      <td id=\"T_9a616_row10_col48\" class=\"data row10 col48\" >1</td>\n",
              "      <td id=\"T_9a616_row10_col49\" class=\"data row10 col49\" >0</td>\n",
              "    </tr>\n",
              "    <tr>\n",
              "      <td id=\"T_9a616_row11_col0\" class=\"data row11 col0\" >1</td>\n",
              "      <td id=\"T_9a616_row11_col1\" class=\"data row11 col1\" >165,593</td>\n",
              "      <td id=\"T_9a616_row11_col2\" class=\"data row11 col2\" >0</td>\n",
              "      <td id=\"T_9a616_row11_col3\" class=\"data row11 col3\" >0</td>\n",
              "      <td id=\"T_9a616_row11_col4\" class=\"data row11 col4\" >0</td>\n",
              "      <td id=\"T_9a616_row11_col5\" class=\"data row11 col5\" >0</td>\n",
              "      <td id=\"T_9a616_row11_col6\" class=\"data row11 col6\" >1</td>\n",
              "      <td id=\"T_9a616_row11_col7\" class=\"data row11 col7\" >0</td>\n",
              "      <td id=\"T_9a616_row11_col8\" class=\"data row11 col8\" >0</td>\n",
              "      <td id=\"T_9a616_row11_col9\" class=\"data row11 col9\" >0</td>\n",
              "      <td id=\"T_9a616_row11_col10\" class=\"data row11 col10\" >0</td>\n",
              "      <td id=\"T_9a616_row11_col11\" class=\"data row11 col11\" >0</td>\n",
              "      <td id=\"T_9a616_row11_col12\" class=\"data row11 col12\" >0</td>\n",
              "      <td id=\"T_9a616_row11_col13\" class=\"data row11 col13\" >0</td>\n",
              "      <td id=\"T_9a616_row11_col14\" class=\"data row11 col14\" >1</td>\n",
              "      <td id=\"T_9a616_row11_col15\" class=\"data row11 col15\" >0</td>\n",
              "      <td id=\"T_9a616_row11_col16\" class=\"data row11 col16\" >0</td>\n",
              "      <td id=\"T_9a616_row11_col17\" class=\"data row11 col17\" >0</td>\n",
              "      <td id=\"T_9a616_row11_col18\" class=\"data row11 col18\" >0</td>\n",
              "      <td id=\"T_9a616_row11_col19\" class=\"data row11 col19\" >0</td>\n",
              "      <td id=\"T_9a616_row11_col20\" class=\"data row11 col20\" >0</td>\n",
              "      <td id=\"T_9a616_row11_col21\" class=\"data row11 col21\" >0</td>\n",
              "      <td id=\"T_9a616_row11_col22\" class=\"data row11 col22\" >1</td>\n",
              "      <td id=\"T_9a616_row11_col23\" class=\"data row11 col23\" >0</td>\n",
              "      <td id=\"T_9a616_row11_col24\" class=\"data row11 col24\" >0</td>\n",
              "      <td id=\"T_9a616_row11_col25\" class=\"data row11 col25\" >0</td>\n",
              "      <td id=\"T_9a616_row11_col26\" class=\"data row11 col26\" >0</td>\n",
              "      <td id=\"T_9a616_row11_col27\" class=\"data row11 col27\" >0</td>\n",
              "      <td id=\"T_9a616_row11_col28\" class=\"data row11 col28\" >0</td>\n",
              "      <td id=\"T_9a616_row11_col29\" class=\"data row11 col29\" >0</td>\n",
              "      <td id=\"T_9a616_row11_col30\" class=\"data row11 col30\" >0</td>\n",
              "      <td id=\"T_9a616_row11_col31\" class=\"data row11 col31\" >0</td>\n",
              "      <td id=\"T_9a616_row11_col32\" class=\"data row11 col32\" >0</td>\n",
              "      <td id=\"T_9a616_row11_col33\" class=\"data row11 col33\" >1</td>\n",
              "      <td id=\"T_9a616_row11_col34\" class=\"data row11 col34\" >0</td>\n",
              "      <td id=\"T_9a616_row11_col35\" class=\"data row11 col35\" >0</td>\n",
              "      <td id=\"T_9a616_row11_col36\" class=\"data row11 col36\" >0</td>\n",
              "      <td id=\"T_9a616_row11_col37\" class=\"data row11 col37\" >0</td>\n",
              "      <td id=\"T_9a616_row11_col38\" class=\"data row11 col38\" >1</td>\n",
              "      <td id=\"T_9a616_row11_col39\" class=\"data row11 col39\" >0</td>\n",
              "      <td id=\"T_9a616_row11_col40\" class=\"data row11 col40\" >0</td>\n",
              "      <td id=\"T_9a616_row11_col41\" class=\"data row11 col41\" >0</td>\n",
              "      <td id=\"T_9a616_row11_col42\" class=\"data row11 col42\" >1</td>\n",
              "      <td id=\"T_9a616_row11_col43\" class=\"data row11 col43\" >0</td>\n",
              "      <td id=\"T_9a616_row11_col44\" class=\"data row11 col44\" >0</td>\n",
              "      <td id=\"T_9a616_row11_col45\" class=\"data row11 col45\" >0</td>\n",
              "      <td id=\"T_9a616_row11_col46\" class=\"data row11 col46\" >0</td>\n",
              "      <td id=\"T_9a616_row11_col47\" class=\"data row11 col47\" >0</td>\n",
              "      <td id=\"T_9a616_row11_col48\" class=\"data row11 col48\" >1</td>\n",
              "      <td id=\"T_9a616_row11_col49\" class=\"data row11 col49\" >0</td>\n",
              "    </tr>\n",
              "  </tbody>\n",
              "</table>\n"
            ]
          },
          "metadata": {},
          "execution_count": 110
        }
      ],
      "source": [
        "captionString \\\n",
        "    = 'Table 2.5.1: Dummies DataFrame Table'\n",
        "\n",
        "currentStylerObject \\\n",
        "    = function \\\n",
        "        .ReturnStylerObjectStandardFormat \\\n",
        "            (dummiesDataFrame.head(12),\n",
        "             captionString)\n",
        "\n",
        "log_function \\\n",
        "    .ReturnStylerObjectSavePNGImage \\\n",
        "        (currentStylerObject,\n",
        "         captionString)"
      ]
    },
    {
      "cell_type": "markdown",
      "id": "259ca73d",
      "metadata": {
        "id": "259ca73d"
      },
      "source": [
        "### **Split Preprocessed Data into Features and Target Arrays**"
      ]
    },
    {
      "cell_type": "code",
      "execution_count": null,
      "id": "98a63aff",
      "metadata": {
        "id": "98a63aff"
      },
      "outputs": [],
      "source": [
        "yNumpyArray \\\n",
        "    = dummiesDataFrame['IS_SUCCESSFUL'] \\\n",
        "          .values\n",
        "\n",
        "log_function \\\n",
        "    .DebugReturnObjectWriteObject \\\n",
        "        (yNumpyArray)"
      ]
    },
    {
      "cell_type": "code",
      "execution_count": null,
      "id": "f3683c45",
      "metadata": {
        "id": "f3683c45"
      },
      "outputs": [],
      "source": [
        "XNumpyArray \\\n",
        "    = dummiesDataFrame \\\n",
        "        .drop \\\n",
        "            (['IS_SUCCESSFUL'],\n",
        "             axis = 1) \\\n",
        "        .values\n",
        "\n",
        "log_function \\\n",
        "    .DebugReturnObjectWriteObject \\\n",
        "        (XNumpyArray)"
      ]
    },
    {
      "cell_type": "markdown",
      "id": "98e2fcfe",
      "metadata": {
        "id": "98e2fcfe"
      },
      "source": [
        "### **Split the Preprocessed Data into a Training and Testing Dataset**"
      ]
    },
    {
      "cell_type": "code",
      "execution_count": null,
      "id": "02eb3df4",
      "metadata": {
        "id": "02eb3df4"
      },
      "outputs": [],
      "source": [
        "XTrainNumpyArray, \\\n",
        "XTestNumpyArray, \\\n",
        "yTrainNumpyArray, \\\n",
        "yTestNumpyArray \\\n",
        "    = train_test_split \\\n",
        "            (XNumpyArray,\n",
        "             yNumpyArray,\n",
        "             random_state = 42)"
      ]
    },
    {
      "cell_type": "code",
      "execution_count": null,
      "id": "7d11e400",
      "metadata": {
        "id": "7d11e400"
      },
      "outputs": [],
      "source": [
        "log_function \\\n",
        "    .DebugReturnObjectWriteObject \\\n",
        "        (XTrainNumpyArray)"
      ]
    },
    {
      "cell_type": "code",
      "execution_count": null,
      "id": "2f83b1c0",
      "metadata": {
        "id": "2f83b1c0"
      },
      "outputs": [],
      "source": [
        "log_function \\\n",
        "    .DebugReturnObjectWriteObject \\\n",
        "        (XTestNumpyArray)"
      ]
    },
    {
      "cell_type": "code",
      "execution_count": null,
      "id": "ae1b649d",
      "metadata": {
        "id": "ae1b649d"
      },
      "outputs": [],
      "source": [
        "log_function \\\n",
        "    .DebugReturnObjectWriteObject \\\n",
        "        (yTrainNumpyArray)"
      ]
    },
    {
      "cell_type": "code",
      "execution_count": null,
      "id": "12ab265f",
      "metadata": {
        "id": "12ab265f"
      },
      "outputs": [],
      "source": [
        "log_function \\\n",
        "    .DebugReturnObjectWriteObject \\\n",
        "        (yTestNumpyArray)"
      ]
    },
    {
      "cell_type": "markdown",
      "id": "a44357e9",
      "metadata": {
        "id": "a44357e9"
      },
      "source": [
        "### **Create a StandardScaler Instance**"
      ]
    },
    {
      "cell_type": "code",
      "execution_count": null,
      "id": "26ef945a",
      "metadata": {
        "id": "26ef945a"
      },
      "outputs": [],
      "source": [
        "currentStandardScalar \\\n",
        "    = StandardScaler()\n",
        "\n",
        "log_function \\\n",
        "    .DebugReturnObjectWriteObject \\\n",
        "        (currentStandardScalar)"
      ]
    },
    {
      "cell_type": "markdown",
      "id": "8adebdbf",
      "metadata": {
        "id": "8adebdbf"
      },
      "source": [
        "### **Fit the StandardScaler**"
      ]
    },
    {
      "cell_type": "code",
      "execution_count": null,
      "id": "f04e45da",
      "metadata": {
        "id": "f04e45da"
      },
      "outputs": [],
      "source": [
        "XStandardScalar \\\n",
        "    = currentStandardScalar \\\n",
        "        .fit \\\n",
        "            (XTrainNumpyArray)\n",
        "\n",
        "log_function \\\n",
        "    .DebugReturnObjectWriteObject \\\n",
        "        (XStandardScalar)"
      ]
    },
    {
      "cell_type": "markdown",
      "id": "66871c23",
      "metadata": {
        "id": "66871c23"
      },
      "source": [
        "### **Scale the Data**"
      ]
    },
    {
      "cell_type": "code",
      "execution_count": null,
      "id": "ccceee99",
      "metadata": {
        "id": "ccceee99"
      },
      "outputs": [],
      "source": [
        "XTrainScaledNumpyArray \\\n",
        "    = XStandardScalar \\\n",
        "        .transform \\\n",
        "            (XTrainNumpyArray)\n",
        "\n",
        "log_function \\\n",
        "    .DebugReturnObjectWriteObject \\\n",
        "        (XTrainScaledNumpyArray)"
      ]
    },
    {
      "cell_type": "code",
      "execution_count": null,
      "id": "f6a4dc8c",
      "metadata": {
        "id": "f6a4dc8c"
      },
      "outputs": [],
      "source": [
        "XTestScaledNumpyArray \\\n",
        "    = XStandardScalar \\\n",
        "        .transform \\\n",
        "            (XTestNumpyArray)\n",
        "\n",
        "log_function \\\n",
        "    .DebugReturnObjectWriteObject \\\n",
        "        (XTestScaledNumpyArray)"
      ]
    },
    {
      "cell_type": "markdown",
      "id": "1e64ef36",
      "metadata": {
        "id": "1e64ef36"
      },
      "source": [
        "# <br> **Section 3: Compile, Train, Evaluate, and Export the Model**"
      ]
    },
    {
      "cell_type": "markdown",
      "id": "6acd6c75",
      "metadata": {
        "id": "6acd6c75"
      },
      "source": [
        "## **3.1: Compile Model**"
      ]
    },
    {
      "cell_type": "markdown",
      "id": "72d09023",
      "metadata": {
        "id": "72d09023"
      },
      "source": [
        "### **Model Definition**"
      ]
    },
    {
      "cell_type": "code",
      "execution_count": null,
      "id": "6409eafa",
      "metadata": {
        "id": "6409eafa"
      },
      "outputs": [],
      "source": [
        "# These line of code define the model with the number of input features and hidden nodes for each layer.\n",
        "neuralNetSequential \\\n",
        "    = tf.keras.models.Sequential()\n",
        "\n",
        "log_function \\\n",
        "    .DebugReturnObjectWriteObject \\\n",
        "        (neuralNetSequential)"
      ]
    },
    {
      "cell_type": "markdown",
      "id": "be6fa872",
      "metadata": {
        "id": "be6fa872"
      },
      "source": [
        "### **Layers**"
      ]
    },
    {
      "cell_type": "code",
      "execution_count": null,
      "id": "8992e052",
      "metadata": {
        "id": "8992e052"
      },
      "outputs": [],
      "source": [
        "inputDimensionInteger \\\n",
        "    = len(XTrainScaledNumpyArray[0])\n",
        "\n",
        "# This line of code is the first layer.\n",
        "neuralNetSequential \\\n",
        "    .add \\\n",
        "        (tf.keras.layers.Dense \\\n",
        "             (units = 46,\n",
        "              activation = 'relu',\n",
        "              input_dim = inputDimensionInteger))\n",
        "\n",
        "# This line of code is the hidden layer.\n",
        "neuralNetSequential \\\n",
        "    .add \\\n",
        "        (tf.keras.layers.Dense \\\n",
        "             (units = 32,\n",
        "              activation = 'relu'))\n",
        "\n",
        "# This line of code is the output layer.\n",
        "neuralNetSequential \\\n",
        "    .add \\\n",
        "        (tf.keras.layers.Dense \\\n",
        "             (units = 1,\n",
        "              activation = 'sigmoid'))"
      ]
    },
    {
      "cell_type": "markdown",
      "id": "0ca5f086",
      "metadata": {
        "id": "0ca5f086"
      },
      "source": [
        "### **Check Model**"
      ]
    },
    {
      "cell_type": "code",
      "execution_count": null,
      "id": "6c2d2d21",
      "metadata": {
        "id": "6c2d2d21",
        "outputId": "d8535471-0778-4883-aca9-6de2244a3fa7",
        "colab": {
          "base_uri": "https://localhost:8080/"
        }
      },
      "outputs": [
        {
          "output_type": "stream",
          "name": "stdout",
          "text": [
            "Model: \"sequential_2\"\n",
            "_________________________________________________________________\n",
            " Layer (type)                Output Shape              Param #   \n",
            "=================================================================\n",
            " dense_6 (Dense)             (None, 46)                2300      \n",
            "                                                                 \n",
            " dense_7 (Dense)             (None, 32)                1504      \n",
            "                                                                 \n",
            " dense_8 (Dense)             (None, 1)                 33        \n",
            "                                                                 \n",
            "=================================================================\n",
            "Total params: 3,837\n",
            "Trainable params: 3,837\n",
            "Non-trainable params: 0\n",
            "_________________________________________________________________\n"
          ]
        }
      ],
      "source": [
        "neuralNetSequential.summary()"
      ]
    },
    {
      "cell_type": "markdown",
      "id": "9a45266e",
      "metadata": {
        "id": "9a45266e"
      },
      "source": [
        "### **Compile**"
      ]
    },
    {
      "cell_type": "code",
      "execution_count": null,
      "id": "a7963fd6",
      "metadata": {
        "id": "a7963fd6"
      },
      "outputs": [],
      "source": [
        "neuralNetSequential \\\n",
        "    .compile \\\n",
        "        (loss = 'binary_crossentropy',\n",
        "         optimizer = 'adam',\n",
        "         metrics = ['accuracy'])"
      ]
    },
    {
      "cell_type": "markdown",
      "id": "b8d45ef5",
      "metadata": {
        "id": "b8d45ef5"
      },
      "source": [
        "## **3.2: Train Model**"
      ]
    },
    {
      "cell_type": "code",
      "execution_count": null,
      "id": "f901869b",
      "metadata": {
        "id": "f901869b",
        "outputId": "807a596e-a810-47f2-9160-fa19a6cef1fc",
        "colab": {
          "base_uri": "https://localhost:8080/"
        }
      },
      "outputs": [
        {
          "output_type": "stream",
          "name": "stdout",
          "text": [
            "Epoch 1/100\n",
            "804/804 [==============================] - 2s 2ms/step - loss: 0.5803 - accuracy: 0.7125\n",
            "Epoch 2/100\n",
            "804/804 [==============================] - 1s 2ms/step - loss: 0.5558 - accuracy: 0.7277\n",
            "Epoch 3/100\n",
            "804/804 [==============================] - 1s 2ms/step - loss: 0.5524 - accuracy: 0.7295\n",
            "Epoch 4/100\n",
            "804/804 [==============================] - 1s 2ms/step - loss: 0.5502 - accuracy: 0.7296\n",
            "Epoch 5/100\n",
            "804/804 [==============================] - 1s 2ms/step - loss: 0.5481 - accuracy: 0.7315\n",
            "Epoch 6/100\n",
            "804/804 [==============================] - 1s 2ms/step - loss: 0.5473 - accuracy: 0.7310\n",
            "Epoch 7/100\n",
            "804/804 [==============================] - 1s 2ms/step - loss: 0.5468 - accuracy: 0.7317\n",
            "Epoch 8/100\n",
            "804/804 [==============================] - 1s 2ms/step - loss: 0.5465 - accuracy: 0.7323\n",
            "Epoch 9/100\n",
            "804/804 [==============================] - 1s 2ms/step - loss: 0.5454 - accuracy: 0.7331\n",
            "Epoch 10/100\n",
            "804/804 [==============================] - 1s 2ms/step - loss: 0.5455 - accuracy: 0.7320\n",
            "Epoch 11/100\n",
            "804/804 [==============================] - 1s 2ms/step - loss: 0.5446 - accuracy: 0.7320\n",
            "Epoch 12/100\n",
            "804/804 [==============================] - 1s 2ms/step - loss: 0.5435 - accuracy: 0.7336\n",
            "Epoch 13/100\n",
            "804/804 [==============================] - 1s 2ms/step - loss: 0.5434 - accuracy: 0.7353\n",
            "Epoch 14/100\n",
            "804/804 [==============================] - 1s 2ms/step - loss: 0.5425 - accuracy: 0.7351\n",
            "Epoch 15/100\n",
            "804/804 [==============================] - 1s 2ms/step - loss: 0.5425 - accuracy: 0.7347\n",
            "Epoch 16/100\n",
            "804/804 [==============================] - 1s 2ms/step - loss: 0.5420 - accuracy: 0.7334\n",
            "Epoch 17/100\n",
            "804/804 [==============================] - 1s 2ms/step - loss: 0.5422 - accuracy: 0.7352\n",
            "Epoch 18/100\n",
            "804/804 [==============================] - 1s 2ms/step - loss: 0.5413 - accuracy: 0.7350\n",
            "Epoch 19/100\n",
            "804/804 [==============================] - 1s 2ms/step - loss: 0.5411 - accuracy: 0.7358\n",
            "Epoch 20/100\n",
            "804/804 [==============================] - 1s 2ms/step - loss: 0.5411 - accuracy: 0.7355\n",
            "Epoch 21/100\n",
            "804/804 [==============================] - 1s 2ms/step - loss: 0.5407 - accuracy: 0.7363\n",
            "Epoch 22/100\n",
            "804/804 [==============================] - 1s 2ms/step - loss: 0.5406 - accuracy: 0.7346\n",
            "Epoch 23/100\n",
            "804/804 [==============================] - 1s 2ms/step - loss: 0.5401 - accuracy: 0.7355\n",
            "Epoch 24/100\n",
            "804/804 [==============================] - 1s 2ms/step - loss: 0.5408 - accuracy: 0.7356\n",
            "Epoch 25/100\n",
            "804/804 [==============================] - 1s 2ms/step - loss: 0.5392 - accuracy: 0.7362\n",
            "Epoch 26/100\n",
            "804/804 [==============================] - 1s 2ms/step - loss: 0.5397 - accuracy: 0.7358\n",
            "Epoch 27/100\n",
            "804/804 [==============================] - 1s 2ms/step - loss: 0.5397 - accuracy: 0.7374\n",
            "Epoch 28/100\n",
            "804/804 [==============================] - 1s 2ms/step - loss: 0.5387 - accuracy: 0.7361\n",
            "Epoch 29/100\n",
            "804/804 [==============================] - 1s 2ms/step - loss: 0.5389 - accuracy: 0.7362\n",
            "Epoch 30/100\n",
            "804/804 [==============================] - 1s 2ms/step - loss: 0.5390 - accuracy: 0.7368\n",
            "Epoch 31/100\n",
            "804/804 [==============================] - 1s 2ms/step - loss: 0.5382 - accuracy: 0.7365\n",
            "Epoch 32/100\n",
            "804/804 [==============================] - 1s 2ms/step - loss: 0.5384 - accuracy: 0.7379\n",
            "Epoch 33/100\n",
            "804/804 [==============================] - 1s 2ms/step - loss: 0.5383 - accuracy: 0.7363\n",
            "Epoch 34/100\n",
            "804/804 [==============================] - 1s 2ms/step - loss: 0.5380 - accuracy: 0.7375\n",
            "Epoch 35/100\n",
            "804/804 [==============================] - 1s 2ms/step - loss: 0.5383 - accuracy: 0.7369\n",
            "Epoch 36/100\n",
            "804/804 [==============================] - 1s 2ms/step - loss: 0.5378 - accuracy: 0.7350\n",
            "Epoch 37/100\n",
            "804/804 [==============================] - 1s 2ms/step - loss: 0.5375 - accuracy: 0.7378\n",
            "Epoch 38/100\n",
            "804/804 [==============================] - 1s 2ms/step - loss: 0.5375 - accuracy: 0.7378\n",
            "Epoch 39/100\n",
            "804/804 [==============================] - 1s 2ms/step - loss: 0.5371 - accuracy: 0.7380\n",
            "Epoch 40/100\n",
            "804/804 [==============================] - 1s 2ms/step - loss: 0.5370 - accuracy: 0.7386\n",
            "Epoch 41/100\n",
            "804/804 [==============================] - 1s 2ms/step - loss: 0.5369 - accuracy: 0.7385\n",
            "Epoch 42/100\n",
            "804/804 [==============================] - 1s 2ms/step - loss: 0.5366 - accuracy: 0.7368\n",
            "Epoch 43/100\n",
            "804/804 [==============================] - 1s 2ms/step - loss: 0.5363 - accuracy: 0.7385\n",
            "Epoch 44/100\n",
            "804/804 [==============================] - 1s 2ms/step - loss: 0.5361 - accuracy: 0.7383\n",
            "Epoch 45/100\n",
            "804/804 [==============================] - 1s 2ms/step - loss: 0.5362 - accuracy: 0.7392\n",
            "Epoch 46/100\n",
            "804/804 [==============================] - 1s 2ms/step - loss: 0.5354 - accuracy: 0.7383\n",
            "Epoch 47/100\n",
            "804/804 [==============================] - 1s 2ms/step - loss: 0.5360 - accuracy: 0.7385\n",
            "Epoch 48/100\n",
            "804/804 [==============================] - 1s 2ms/step - loss: 0.5360 - accuracy: 0.7377\n",
            "Epoch 49/100\n",
            "804/804 [==============================] - 1s 2ms/step - loss: 0.5357 - accuracy: 0.7386\n",
            "Epoch 50/100\n",
            "804/804 [==============================] - 1s 2ms/step - loss: 0.5357 - accuracy: 0.7385\n",
            "Epoch 51/100\n",
            "804/804 [==============================] - 1s 2ms/step - loss: 0.5355 - accuracy: 0.7386\n",
            "Epoch 52/100\n",
            "804/804 [==============================] - 1s 2ms/step - loss: 0.5354 - accuracy: 0.7390\n",
            "Epoch 53/100\n",
            "804/804 [==============================] - 1s 2ms/step - loss: 0.5352 - accuracy: 0.7390\n",
            "Epoch 54/100\n",
            "804/804 [==============================] - 1s 2ms/step - loss: 0.5350 - accuracy: 0.7381\n",
            "Epoch 55/100\n",
            "804/804 [==============================] - 1s 2ms/step - loss: 0.5346 - accuracy: 0.7394\n",
            "Epoch 56/100\n",
            "804/804 [==============================] - 1s 2ms/step - loss: 0.5348 - accuracy: 0.7393\n",
            "Epoch 57/100\n",
            "804/804 [==============================] - 1s 2ms/step - loss: 0.5350 - accuracy: 0.7395\n",
            "Epoch 58/100\n",
            "804/804 [==============================] - 1s 2ms/step - loss: 0.5347 - accuracy: 0.7398\n",
            "Epoch 59/100\n",
            "804/804 [==============================] - 1s 2ms/step - loss: 0.5346 - accuracy: 0.7389\n",
            "Epoch 60/100\n",
            "804/804 [==============================] - 1s 2ms/step - loss: 0.5343 - accuracy: 0.7387\n",
            "Epoch 61/100\n",
            "804/804 [==============================] - 1s 2ms/step - loss: 0.5343 - accuracy: 0.7397\n",
            "Epoch 62/100\n",
            "804/804 [==============================] - 1s 2ms/step - loss: 0.5344 - accuracy: 0.7388\n",
            "Epoch 63/100\n",
            "804/804 [==============================] - 1s 2ms/step - loss: 0.5342 - accuracy: 0.7390\n",
            "Epoch 64/100\n",
            "804/804 [==============================] - 1s 2ms/step - loss: 0.5340 - accuracy: 0.7388\n",
            "Epoch 65/100\n",
            "804/804 [==============================] - 1s 2ms/step - loss: 0.5341 - accuracy: 0.7405\n",
            "Epoch 66/100\n",
            "804/804 [==============================] - 1s 2ms/step - loss: 0.5336 - accuracy: 0.7399\n",
            "Epoch 67/100\n",
            "804/804 [==============================] - 1s 2ms/step - loss: 0.5342 - accuracy: 0.7397\n",
            "Epoch 68/100\n",
            "804/804 [==============================] - 1s 2ms/step - loss: 0.5337 - accuracy: 0.7399\n",
            "Epoch 69/100\n",
            "804/804 [==============================] - 1s 2ms/step - loss: 0.5337 - accuracy: 0.7398\n",
            "Epoch 70/100\n",
            "804/804 [==============================] - 1s 2ms/step - loss: 0.5339 - accuracy: 0.7399\n",
            "Epoch 71/100\n",
            "804/804 [==============================] - 1s 2ms/step - loss: 0.5334 - accuracy: 0.7392\n",
            "Epoch 72/100\n",
            "804/804 [==============================] - 1s 2ms/step - loss: 0.5335 - accuracy: 0.7400\n",
            "Epoch 73/100\n",
            "804/804 [==============================] - 1s 2ms/step - loss: 0.5335 - accuracy: 0.7388\n",
            "Epoch 74/100\n",
            "804/804 [==============================] - 1s 2ms/step - loss: 0.5334 - accuracy: 0.7391\n",
            "Epoch 75/100\n",
            "804/804 [==============================] - 1s 2ms/step - loss: 0.5337 - accuracy: 0.7398\n",
            "Epoch 76/100\n",
            "804/804 [==============================] - 1s 2ms/step - loss: 0.5333 - accuracy: 0.7397\n",
            "Epoch 77/100\n",
            "804/804 [==============================] - 1s 2ms/step - loss: 0.5332 - accuracy: 0.7392\n",
            "Epoch 78/100\n",
            "804/804 [==============================] - 1s 2ms/step - loss: 0.5337 - accuracy: 0.7396\n",
            "Epoch 79/100\n",
            "804/804 [==============================] - 1s 2ms/step - loss: 0.5331 - accuracy: 0.7400\n",
            "Epoch 80/100\n",
            "804/804 [==============================] - 1s 2ms/step - loss: 0.5330 - accuracy: 0.7401\n",
            "Epoch 81/100\n",
            "804/804 [==============================] - 1s 2ms/step - loss: 0.5330 - accuracy: 0.7394\n",
            "Epoch 82/100\n",
            "804/804 [==============================] - 1s 2ms/step - loss: 0.5331 - accuracy: 0.7406\n",
            "Epoch 83/100\n",
            "804/804 [==============================] - 1s 2ms/step - loss: 0.5327 - accuracy: 0.7392\n",
            "Epoch 84/100\n",
            "804/804 [==============================] - 1s 2ms/step - loss: 0.5331 - accuracy: 0.7393\n",
            "Epoch 85/100\n",
            "804/804 [==============================] - 1s 2ms/step - loss: 0.5332 - accuracy: 0.7399\n",
            "Epoch 86/100\n",
            "804/804 [==============================] - 1s 2ms/step - loss: 0.5329 - accuracy: 0.7401\n",
            "Epoch 87/100\n",
            "804/804 [==============================] - 1s 2ms/step - loss: 0.5329 - accuracy: 0.7408\n",
            "Epoch 88/100\n",
            "804/804 [==============================] - 1s 2ms/step - loss: 0.5325 - accuracy: 0.7403\n",
            "Epoch 89/100\n",
            "804/804 [==============================] - 1s 2ms/step - loss: 0.5326 - accuracy: 0.7403\n",
            "Epoch 90/100\n",
            "804/804 [==============================] - 1s 2ms/step - loss: 0.5330 - accuracy: 0.7395\n",
            "Epoch 91/100\n",
            "804/804 [==============================] - 1s 2ms/step - loss: 0.5323 - accuracy: 0.7398\n",
            "Epoch 92/100\n",
            "804/804 [==============================] - 1s 2ms/step - loss: 0.5324 - accuracy: 0.7396\n",
            "Epoch 93/100\n",
            "804/804 [==============================] - 1s 2ms/step - loss: 0.5323 - accuracy: 0.7402\n",
            "Epoch 94/100\n",
            "804/804 [==============================] - 1s 2ms/step - loss: 0.5321 - accuracy: 0.7404\n",
            "Epoch 95/100\n",
            "804/804 [==============================] - 1s 2ms/step - loss: 0.5323 - accuracy: 0.7399\n",
            "Epoch 96/100\n",
            "804/804 [==============================] - 1s 2ms/step - loss: 0.5323 - accuracy: 0.7404\n",
            "Epoch 97/100\n",
            "804/804 [==============================] - 1s 2ms/step - loss: 0.5327 - accuracy: 0.7391\n",
            "Epoch 98/100\n",
            "804/804 [==============================] - 1s 2ms/step - loss: 0.5323 - accuracy: 0.7395\n",
            "Epoch 99/100\n",
            "804/804 [==============================] - 1s 2ms/step - loss: 0.5321 - accuracy: 0.7396\n",
            "Epoch 100/100\n",
            "804/804 [==============================] - 1s 2ms/step - loss: 0.5318 - accuracy: 0.7392\n"
          ]
        },
        {
          "output_type": "execute_result",
          "data": {
            "text/plain": [
              "<keras.callbacks.History at 0x79031904b400>"
            ]
          },
          "metadata": {},
          "execution_count": 126
        }
      ],
      "source": [
        "neuralNetSequential \\\n",
        "    .fit \\\n",
        "        (XTrainScaledNumpyArray,\n",
        "         yTrainNumpyArray,\n",
        "         epochs = 100)"
      ]
    },
    {
      "cell_type": "markdown",
      "id": "48b62be2",
      "metadata": {
        "id": "48b62be2"
      },
      "source": [
        "## **3.3: Evaluate Model**"
      ]
    },
    {
      "cell_type": "code",
      "execution_count": null,
      "id": "5b36e0f9",
      "metadata": {
        "id": "5b36e0f9",
        "outputId": "8b16c48a-2d0e-4031-88a0-a84697121d09",
        "colab": {
          "base_uri": "https://localhost:8080/"
        }
      },
      "outputs": [
        {
          "output_type": "stream",
          "name": "stdout",
          "text": [
            "268/268 - 0s - loss: 0.5555 - accuracy: 0.7305 - 468ms/epoch - 2ms/step\n",
            "\n",
            "Model Loss: 55.55%, Model Accuracy: 73.05%\n"
          ]
        }
      ],
      "source": [
        "modelLossFloat, \\\n",
        "modelAccuracyFloat \\\n",
        "    = neuralNetSequential.evaluate \\\n",
        "        (XTestScaledNumpyArray,\n",
        "         yTestNumpyArray,\n",
        "         verbose = 2)\n",
        "\n",
        "log_subroutine \\\n",
        "    .PrintAndLogWriteText \\\n",
        "        (f'\\nModel Loss: {round(modelLossFloat * 100, 2)}%, '\n",
        "         + f'Model Accuracy: {round(modelAccuracyFloat*100, 2)}%')"
      ]
    },
    {
      "cell_type": "markdown",
      "id": "893f3128",
      "metadata": {
        "id": "893f3128"
      },
      "source": [
        "## **3.4: Export Model**"
      ]
    },
    {
      "cell_type": "code",
      "execution_count": null,
      "id": "0811e24e",
      "metadata": {
        "id": "0811e24e"
      },
      "outputs": [],
      "source": [
        "neuralNetSequential.save \\\n",
        "    (CONSTANT_FIRST_OUTPUT_FILE_PATH)"
      ]
    },
    {
      "cell_type": "code",
      "execution_count": null,
      "id": "0a71aee8",
      "metadata": {
        "id": "0a71aee8"
      },
      "outputs": [],
      "source": [
        "#log_subroutine \\\n",
        "#    .EndProgramExecution()"
      ]
    },
    {
      "cell_type": "code",
      "execution_count": null,
      "id": "2ecd8036",
      "metadata": {
        "id": "2ecd8036"
      },
      "outputs": [],
      "source": []
    }
  ],
  "metadata": {
    "kernelspec": {
      "display_name": "Python 3",
      "name": "python3"
    },
    "language_info": {
      "codemirror_mode": {
        "name": "ipython",
        "version": 3
      },
      "file_extension": ".py",
      "mimetype": "text/x-python",
      "name": "python",
      "nbconvert_exporter": "python",
      "pygments_lexer": "ipython3",
      "version": "3.11.5"
    },
    "colab": {
      "provenance": [],
      "machine_shape": "hm",
      "include_colab_link": true
    },
    "accelerator": "TPU"
  },
  "nbformat": 4,
  "nbformat_minor": 5
}